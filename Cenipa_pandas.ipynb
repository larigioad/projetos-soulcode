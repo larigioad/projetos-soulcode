{
  "nbformat": 4,
  "nbformat_minor": 0,
  "metadata": {
    "colab": {
      "provenance": [],
      "collapsed_sections": [
        "sy158T8BxJTr",
        "rcJrP6Hf7kQw",
        "QDZyjANx_xpz",
        "H3z9xjXj8VJz",
        "BcNhhHMBzOq4",
        "rTxzacmkColy"
      ],
      "authorship_tag": "ABX9TyO9r6xWtuN2+sGxp5vF3HLo",
      "include_colab_link": true
    },
    "kernelspec": {
      "name": "python3",
      "display_name": "Python 3"
    },
    "language_info": {
      "name": "python"
    }
  },
  "cells": [
    {
      "cell_type": "markdown",
      "metadata": {
        "id": "view-in-github",
        "colab_type": "text"
      },
      "source": [
        "<a href=\"https://colab.research.google.com/github/larigioad/projetos-soulcode/blob/main/Cenipa_pandas.ipynb\" target=\"_parent\"><img src=\"https://colab.research.google.com/assets/colab-badge.svg\" alt=\"Open In Colab\"/></a>"
      ]
    },
    {
      "cell_type": "markdown",
      "source": [
        "##Instalação de bibliotecas"
      ],
      "metadata": {
        "id": "sy158T8BxJTr"
      }
    },
    {
      "cell_type": "code",
      "execution_count": null,
      "metadata": {
        "id": "FK5CxyJI7MQw"
      },
      "outputs": [],
      "source": [
        "pip install gcsfs\n"
      ]
    },
    {
      "cell_type": "code",
      "source": [
        "pip install pandera"
      ],
      "metadata": {
        "colab": {
          "base_uri": "https://localhost:8080/"
        },
        "id": "GIuhYcAnJ4WX",
        "outputId": "fa834652-9f53-4504-82b3-705bf18fac4b"
      },
      "execution_count": null,
      "outputs": [
        {
          "output_type": "stream",
          "name": "stdout",
          "text": [
            "Looking in indexes: https://pypi.org/simple, https://us-python.pkg.dev/colab-wheels/public/simple/\n",
            "Collecting pandera\n",
            "  Downloading pandera-0.13.4-py3-none-any.whl (122 kB)\n",
            "\u001b[2K     \u001b[90m━━━━━━━━━━━━━━━━━━━━━━━━━━━━━━━━━━━━━━\u001b[0m \u001b[32m122.4/122.4 KB\u001b[0m \u001b[31m14.3 MB/s\u001b[0m eta \u001b[36m0:00:00\u001b[0m\n",
            "\u001b[?25hRequirement already satisfied: packaging>=20.0 in /usr/local/lib/python3.9/dist-packages (from pandera) (23.0)\n",
            "Collecting typing-inspect>=0.6.0\n",
            "  Downloading typing_inspect-0.8.0-py3-none-any.whl (8.7 kB)\n",
            "Requirement already satisfied: pandas>=1.2.0 in /usr/local/lib/python3.9/dist-packages (from pandera) (1.3.5)\n",
            "Requirement already satisfied: pydantic in /usr/local/lib/python3.9/dist-packages (from pandera) (1.10.5)\n",
            "Requirement already satisfied: numpy>=1.19.0 in /usr/local/lib/python3.9/dist-packages (from pandera) (1.22.4)\n",
            "Requirement already satisfied: wrapt in /usr/local/lib/python3.9/dist-packages (from pandera) (1.15.0)\n",
            "Requirement already satisfied: pytz>=2017.3 in /usr/local/lib/python3.9/dist-packages (from pandas>=1.2.0->pandera) (2022.7.1)\n",
            "Requirement already satisfied: python-dateutil>=2.7.3 in /usr/local/lib/python3.9/dist-packages (from pandas>=1.2.0->pandera) (2.8.2)\n",
            "Collecting mypy-extensions>=0.3.0\n",
            "  Downloading mypy_extensions-1.0.0-py3-none-any.whl (4.7 kB)\n",
            "Requirement already satisfied: typing-extensions>=3.7.4 in /usr/local/lib/python3.9/dist-packages (from typing-inspect>=0.6.0->pandera) (4.5.0)\n",
            "Requirement already satisfied: six>=1.5 in /usr/local/lib/python3.9/dist-packages (from python-dateutil>=2.7.3->pandas>=1.2.0->pandera) (1.15.0)\n",
            "Installing collected packages: mypy-extensions, typing-inspect, pandera\n",
            "Successfully installed mypy-extensions-1.0.0 pandera-0.13.4 typing-inspect-0.8.0\n"
          ]
        }
      ]
    },
    {
      "cell_type": "markdown",
      "source": [
        "## Declaração das LIBS"
      ],
      "metadata": {
        "id": "rcJrP6Hf7kQw"
      }
    },
    {
      "cell_type": "code",
      "source": [
        "import pandas as pd\n",
        "import os\n",
        "import numpy as np\n",
        "from google.cloud import storage\n",
        "import pandera as pa"
      ],
      "metadata": {
        "id": "WwXNJOsU7omt"
      },
      "execution_count": null,
      "outputs": []
    },
    {
      "cell_type": "markdown",
      "source": [
        "##Configuração do pandas"
      ],
      "metadata": {
        "id": "QDZyjANx_xpz"
      }
    },
    {
      "cell_type": "code",
      "source": [
        "pd.set_option('display.max_columns',100)"
      ],
      "metadata": {
        "id": "HCQzYxI5_yS3"
      },
      "execution_count": null,
      "outputs": []
    },
    {
      "cell_type": "markdown",
      "source": [
        "## Conector para Cloud Storage (bucket)"
      ],
      "metadata": {
        "id": "H3z9xjXj8VJz"
      }
    },
    {
      "cell_type": "code",
      "source": [
        "#CONFIGURANDO DA CHAVE DE SEGURANCA (Enviada com o projeto)\n",
        "\n",
        "serviceAccount = '/content/bionic-region-377820-6b574ad3c183.json'\n",
        "os.environ['GOOGLE_APPLICATION_CREDENTIALS'] = serviceAccount\n"
      ],
      "metadata": {
        "id": "st87D71S8aN5"
      },
      "execution_count": null,
      "outputs": []
    },
    {
      "cell_type": "code",
      "source": [
        "#Configurações Google Cloud Storage\n",
        "client = storage.Client()\n",
        "bucket = client.get_bucket('larissaadami01')\n",
        "bucket.blob('ocorrenciass.csv')\n",
        "path = 'gs://larissaadami01/brutos/ocorrenciass.csv'\n"
      ],
      "metadata": {
        "id": "LNBInmfHAUVV"
      },
      "execution_count": null,
      "outputs": []
    },
    {
      "cell_type": "markdown",
      "source": [
        "##Extração dos dados (EXTRACT)\n"
      ],
      "metadata": {
        "id": "BcNhhHMBzOq4"
      }
    },
    {
      "cell_type": "code",
      "source": [
        "#dataframe - não são variaveis!!!! sep = separador / parse = converter o dado (nome da coluna)\n",
        "\n",
        "df = pd.read_csv(path, sep=';', encoding='ISO-8859-1', parse_dates=['ocorrencia_dia'], dayfirst=True) "
      ],
      "metadata": {
        "id": "Tb8HfF1OTPaB"
      },
      "execution_count": null,
      "outputs": []
    },
    {
      "cell_type": "markdown",
      "source": [
        "##Pré análise:"
      ],
      "metadata": {
        "id": "rTxzacmkColy"
      }
    },
    {
      "cell_type": "code",
      "source": [
        "# A visualização do arquivo (dados - dataframe)\n",
        "df\n"
      ],
      "metadata": {
        "id": "sxNlKBBx3K0A"
      },
      "execution_count": null,
      "outputs": []
    },
    {
      "cell_type": "code",
      "source": [
        "# Para mostrar um numero especifico de linhas, de cima pra baixo. Sem parâmetro mostra 5. Ou coloca quantas quiser no ()\n",
        "# o número da linha NÃO É O INDICE, é o RÓTULO!!!\n",
        "df.head(3)\n"
      ],
      "metadata": {
        "id": "qv6QilNLC4XR"
      },
      "execution_count": null,
      "outputs": []
    },
    {
      "cell_type": "code",
      "source": [
        "# Para mostrar de baixo pra cima. Sem parametro mostra as 5 ultimas. Ou coloca qualquer numero nos ().\n",
        "df.tail()\n"
      ],
      "metadata": {
        "id": "Fy7EaNZ7DJto"
      },
      "execution_count": null,
      "outputs": []
    },
    {
      "cell_type": "code",
      "source": [
        "# Tipos - consulta dos tipos de dados que tem dentro de cada coluna.\n",
        "df.dtypes"
      ],
      "metadata": {
        "id": "YPXAxefpE19Z"
      },
      "execution_count": null,
      "outputs": []
    },
    {
      "cell_type": "code",
      "source": [
        "# Mostrar só o tamanho do dataframe (quantas linhas e colunas)\n",
        "df.shape\n"
      ],
      "metadata": {
        "id": "DlL5PGW5NZAk"
      },
      "execution_count": null,
      "outputs": []
    },
    {
      "cell_type": "code",
      "source": [
        "# Mostra as informações e os detalhes do dataframe\n",
        "df.info()\n"
      ],
      "metadata": {
        "id": "orHtn68PNjot"
      },
      "execution_count": null,
      "outputs": []
    },
    {
      "cell_type": "code",
      "source": [
        "# Verificar se os valores são únicos dentro de uma coluna:\n",
        "# Posso escolher outra coluna para ser o rótulo, mas os dados devem ser unicos.\n",
        "df.codigo_ocorrencia.is_unique\n"
      ],
      "metadata": {
        "id": "uNuWDYubNyzJ"
      },
      "execution_count": null,
      "outputs": []
    },
    {
      "cell_type": "code",
      "source": [
        "# Definir outra coluna para ser o RÓTULO. A coluna deixa de ser dado, para virar rótulo, identificação.\n",
        "# Toda vez que você atribuir o df com '=' da certo e aplica pra sempre. Se não usar o '=' está só verificando uma transformação, igual o exemplo abaixo. \n",
        "# Mostra uma previsão de como vai ficar se aplicar a alteração com o '='.\n",
        "'''df.set_index('codigo_ocorrencia')'''\n",
        "# Para alterar de verdade e modificar o dataframe tem que acrescentar o inplace=True.\n",
        "df.set_index('codigo_ocorrencia', inplace=True)\n",
        "# Só fazer isso se for pedido, se for necessário e se for único.\n"
      ],
      "metadata": {
        "id": "ZJFbVkrkRNPD"
      },
      "execution_count": null,
      "outputs": []
    },
    {
      "cell_type": "code",
      "source": [
        "# Para voltar atrás, desfazer o que fez antes de mudar o rótulo:\n",
        "df.reset_index(inplace=True)\n"
      ],
      "metadata": {
        "id": "2f7kKDc0TCTU"
      },
      "execution_count": null,
      "outputs": []
    },
    {
      "cell_type": "markdown",
      "source": [
        "##Transformações (Limpeza, conversão, etc)"
      ],
      "metadata": {
        "id": "90kgZA0vZuAK"
      }
    },
    {
      "cell_type": "code",
      "source": [
        "#Backup local(M.RAM) do df\n",
        "dfback = df.copy()\n"
      ],
      "metadata": {
        "id": "Zj4EMc88f-By"
      },
      "execution_count": null,
      "outputs": []
    },
    {
      "cell_type": "code",
      "source": [
        "# De acordo com as diretrizes dadas pelo superior ou pela empresa. Drop(descartar), axis (eixo - usar sempre 0 - linhas(x) e 1 - colunas(y)), inplace=True para aplicar definitivo.\n",
        "\n",
        "# Drop (descarte) de colunas identicas: codigo_ocorrencia, codigo_ocorrencia1, codigo_ocorrencia2, codigo_ocorrencia3, codigo_ocorrencia4:\n",
        "df.drop(['codigo_ocorrencia1','codigo_ocorrencia2','codigo_ocorrencia3','codigo_ocorrencia4',],axis=1,inplace=True)\n",
        "\n",
        "# Drop de colunas com problemas ou não utilizadas\n",
        "df.drop(['ocorrencia_latitude','ocorrencia_longitude','investigacao_aeronave_liberada','investigacao_status','divulgacao_relatorio_numero','divulgacao_relatorio_publicado','divulgacao_dia_publicacao'],axis=1,inplace=True)\n"
      ],
      "metadata": {
        "id": "fQZLlRdwf5fl"
      },
      "execution_count": null,
      "outputs": []
    },
    {
      "cell_type": "code",
      "source": [
        "df.drop(['data','horario'],axis=1,inplace=True)"
      ],
      "metadata": {
        "id": "fwDj-OwqguYg"
      },
      "execution_count": null,
      "outputs": []
    },
    {
      "cell_type": "code",
      "source": [
        "# Renomear as colunas pra facilitar e ficar melhor.\n",
        "# Se tiver em outra lingua, é bom renomear logo de inicio.\n",
        "df.rename(columns={'ocorrencia_classificacao': 'classificacao', 'ocorrencia_cidade': 'cidade', 'ocorrencia_uf': 'uf', 'ocorrencia_pais': 'pais'}, inplace=True)\n",
        "df.rename(columns={'ocorrencia_aerodromo':'aerodromo','ocorrencia_dia':'data','ocorrencia_hora':'horario','total_aeronaves_envolvidas':'n_aeronaves','ocorrencia_saida_pista':'saida_pista'},inplace=True)\n",
        "\n",
        "# EVITAR NOMES MAIUSCULOS, preferir nomes curtos e em minusculo.\n"
      ],
      "metadata": {
        "id": "tGGhEWQof0o-"
      },
      "execution_count": null,
      "outputs": []
    },
    {
      "cell_type": "code",
      "source": [
        "df.dtypes"
      ],
      "metadata": {
        "colab": {
          "base_uri": "https://localhost:8080/"
        },
        "id": "ZvlM1Ng7oGQ_",
        "outputId": "b09b7b18-c771-421b-8a9c-c30fea45ede8"
      },
      "execution_count": null,
      "outputs": [
        {
          "output_type": "execute_result",
          "data": {
            "text/plain": [
              "codigo_ocorrencia               int64\n",
              "classificacao                  object\n",
              "cidade                         object\n",
              "uf                             object\n",
              "pais                           object\n",
              "aerodromo                      object\n",
              "data                   datetime64[ns]\n",
              "horario                        object\n",
              "total_recomendacoes             int64\n",
              "n_aeronaves                     int64\n",
              "saida_pista                    object\n",
              "dtype: object"
            ]
          },
          "metadata": {},
          "execution_count": 21
        }
      ]
    },
    {
      "cell_type": "code",
      "source": [
        "df\n"
      ],
      "metadata": {
        "id": "kULkTioJolRg"
      },
      "execution_count": null,
      "outputs": []
    },
    {
      "cell_type": "code",
      "source": [
        "# Comando para mostrar os valores únicos:\n",
        "sorted(pd.unique(df['classificacao']))"
      ],
      "metadata": {
        "id": "_8ZDGFjYLFYQ"
      },
      "execution_count": null,
      "outputs": []
    },
    {
      "cell_type": "code",
      "source": [
        "# Substituição:\n",
        "\n",
        "# Em cima do dataframe inteiro: (+ recomendado quando tem inconsistencia em varias colunas) (melhor deixar nulo ou sem valor do que inventar valor)\n",
        "df.replace(['***', '**NI'], pd.NA, inplace=True)\n",
        "\n",
        "# De coluna em coluna:\n",
        "df.column.replace([], pd.NA, inplace=True) (???)"
      ],
      "metadata": {
        "colab": {
          "base_uri": "https://localhost:8080/",
          "height": 35
        },
        "id": "EXm4puvcqObc",
        "outputId": "cf7e05d7-5d5d-467e-b3af-8aa692d393db"
      },
      "execution_count": null,
      "outputs": [
        {
          "output_type": "execute_result",
          "data": {
            "text/plain": [
              "'df.column.replace([], pd.NA, inplace=True) (???)'"
            ],
            "application/vnd.google.colaboratory.intrinsic+json": {
              "type": "string"
            }
          },
          "metadata": {},
          "execution_count": 15
        }
      ]
    },
    {
      "cell_type": "code",
      "source": [
        "# Substituindo com numpy:\n",
        "df.replace(pd.NA, np.NaN, inplace=True)\n"
      ],
      "metadata": {
        "id": "4DhUjF2SYZiV"
      },
      "execution_count": null,
      "outputs": []
    },
    {
      "cell_type": "code",
      "source": [
        "# Converter coluna data para string\n",
        "df['data'] = df['data'].astype(str)"
      ],
      "metadata": {
        "id": "jOmy9OiEb-dz"
      },
      "execution_count": null,
      "outputs": []
    },
    {
      "cell_type": "code",
      "source": [
        "# Criar coluna período (juntando data + horario)\n",
        "df['periodo'] = pd.to_datetime(df['data']+' '+df['horario'])"
      ],
      "metadata": {
        "id": "VyDV-BS6dE8R"
      },
      "execution_count": null,
      "outputs": []
    },
    {
      "cell_type": "code",
      "source": [
        "df.dtypes"
      ],
      "metadata": {
        "colab": {
          "base_uri": "https://localhost:8080/"
        },
        "id": "uuP66hMzdAsX",
        "outputId": "739cb3b2-3c8b-42e4-b7a0-a2b955958f25"
      },
      "execution_count": null,
      "outputs": [
        {
          "output_type": "execute_result",
          "data": {
            "text/plain": [
              "codigo_ocorrencia               int64\n",
              "classificacao                  object\n",
              "cidade                         object\n",
              "uf                             object\n",
              "pais                           object\n",
              "aerodromo                      object\n",
              "total_recomendacoes             int64\n",
              "n_aeronaves                     int64\n",
              "saida_pista                    object\n",
              "periodo                datetime64[ns]\n",
              "dtype: object"
            ]
          },
          "metadata": {},
          "execution_count": 48
        }
      ]
    },
    {
      "cell_type": "code",
      "source": [
        "# Verificar dados nulos, ausentes, etc.\n",
        "\n",
        "df.isna().sum()\n"
      ],
      "metadata": {
        "id": "MNzNN7gzE9bv"
      },
      "execution_count": null,
      "outputs": []
    },
    {
      "cell_type": "code",
      "source": [
        "# Verificando a mesma coisa, mas no backup.\n",
        "\n",
        "dfback.isna().sum()\n"
      ],
      "metadata": {
        "id": "XVKfNqkuEuhj"
      },
      "execution_count": null,
      "outputs": []
    },
    {
      "cell_type": "markdown",
      "source": [
        "## Criação do Schema de validação de dados"
      ],
      "metadata": {
        "id": "NFdSrhGJLMQh"
      }
    },
    {
      "cell_type": "code",
      "source": [
        "#criacao do schema pandera\n",
        "schema = pa.DataFrameSchema(\n",
        "    columns = {\n",
        "        'codigo_ocorrencia': pa.Column(pa.Int),\n",
        "        'classificacao': pa.Column(pa.String),\n",
        "        'cidade': pa.Column(pa.String),\n",
        "        'uf': pa.Column(pa.String, pa.Check.str_length(2,2), nullable= True),\n",
        "        'pais': pa.Column(pa.String),\n",
        "        'aerodromo': pa.Column(pa.String, pa.Check.str_length(4,4), nullable= True),\n",
        "        'data': pa.Column(pa.DateTime),\n",
        "        'horario': pa.Column(pa.String, pa.Check.str_matches(r'^([0-1]?[0-9]|[2][0-3]):([0-5][0-9]):([0-5][0-9])?$'), nullable= True), #regex\n",
        "        'total_recomendacoes': pa.Column(pa.Int),\n",
        "        'n_aeronaves': pa.Column(pa.Int),\n",
        "        'saida_pista': pa.Column(pa.String, pa.Check.str_length(3,3))\n",
        "    }\n",
        ")\n",
        "\n",
        "schema2 = pa.DataFrameSchema(\n",
        "    columns = {\n",
        "        'codigo_ocorrencia':pa.Column(pa.Int),\n",
        "        'classificacao':pa.Column(pa.String),\n",
        "        'cidade':pa.Column(pa.String),\n",
        "        'uf':pa.Column(pa.String,pa.Check.str_length(2,2),nullable=True),\n",
        "        'pais':pa.Column(pa.String),\n",
        "        'aerodromo':pa.Column(pa.String,pa.Check.str_length(4,4),nullable=True),\n",
        "        'total_recomendacoes':pa.Column(pa.Int),\n",
        "        'n_aeronaves':pa.Column(pa.Int),\n",
        "        'saida_pista':pa.Column(pa.String,pa.Check.str_length(3,3)),\n",
        "        'periodo':pa.Column(pa.DateTime,nullable=True),\n",
        "    }\n",
        ")"
      ],
      "metadata": {
        "id": "QwZGpzIiLS9M"
      },
      "execution_count": null,
      "outputs": []
    },
    {
      "cell_type": "code",
      "source": [
        "schema2.validate(df)"
      ],
      "metadata": {
        "colab": {
          "base_uri": "https://localhost:8080/",
          "height": 424
        },
        "id": "vz3zC9F7YePc",
        "outputId": "c985f7d0-7e99-4e46-a44f-466e24ddcb65"
      },
      "execution_count": null,
      "outputs": [
        {
          "output_type": "execute_result",
          "data": {
            "text/plain": [
              "      codigo_ocorrencia    classificacao              cidade  uf    pais  \\\n",
              "0                 81027  INCIDENTE GRAVE           SÃO PAULO  SP  BRASIL   \n",
              "1                 81030        INCIDENTE             VITÓRIA  ES  BRASIL   \n",
              "2                 81023  INCIDENTE GRAVE           AMERICANA  SP  BRASIL   \n",
              "3                 81029        INCIDENTE      BELO HORIZONTE  MG  BRASIL   \n",
              "4                 81025        INCIDENTE              MANAUS  AM  BRASIL   \n",
              "...                 ...              ...                 ...  ..     ...   \n",
              "6764              40324        INCIDENTE             PELOTAS  RS  BRASIL   \n",
              "6765              39527         ACIDENTE  LUCAS DO RIO VERDE  MT  BRASIL   \n",
              "6766              40211        INCIDENTE      RIO DE JANEIRO  RJ  BRASIL   \n",
              "6767              40349        INCIDENTE               BELÉM  PA  BRASIL   \n",
              "6768              40351        INCIDENTE      RIO DE JANEIRO  RJ  BRASIL   \n",
              "\n",
              "     aerodromo  total_recomendacoes  n_aeronaves saida_pista  \\\n",
              "0         SBSP                    0            1         SIM   \n",
              "1         SBVT                    0            1         NÃO   \n",
              "2         SDAI                    0            1         SIM   \n",
              "3         SBBH                    0            1         NÃO   \n",
              "4         SBEG                    0            1         NÃO   \n",
              "...        ...                  ...          ...         ...   \n",
              "6764      SBPK                    0            1         NÃO   \n",
              "6765       NaN                    0            1         NÃO   \n",
              "6766       NaN                    0            1         NÃO   \n",
              "6767      SBBE                    0            1         NÃO   \n",
              "6768      SBRJ                    0            1         NÃO   \n",
              "\n",
              "                 periodo  \n",
              "0    2022-10-09 16:30:00  \n",
              "1    2022-10-09 16:20:00  \n",
              "2    2022-10-06 15:30:00  \n",
              "3    2022-10-06 00:44:00  \n",
              "4    2022-10-05 20:56:00  \n",
              "...                  ...  \n",
              "6764 2010-01-05 19:25:00  \n",
              "6765 2010-01-04 17:30:00  \n",
              "6766 2010-01-03 12:00:00  \n",
              "6767 2010-01-03 11:05:00  \n",
              "6768 2010-01-03 03:00:00  \n",
              "\n",
              "[6769 rows x 10 columns]"
            ],
            "text/html": [
              "\n",
              "  <div id=\"df-aad20b5b-e2b5-49dd-a894-7e1153995a5e\">\n",
              "    <div class=\"colab-df-container\">\n",
              "      <div>\n",
              "<style scoped>\n",
              "    .dataframe tbody tr th:only-of-type {\n",
              "        vertical-align: middle;\n",
              "    }\n",
              "\n",
              "    .dataframe tbody tr th {\n",
              "        vertical-align: top;\n",
              "    }\n",
              "\n",
              "    .dataframe thead th {\n",
              "        text-align: right;\n",
              "    }\n",
              "</style>\n",
              "<table border=\"1\" class=\"dataframe\">\n",
              "  <thead>\n",
              "    <tr style=\"text-align: right;\">\n",
              "      <th></th>\n",
              "      <th>codigo_ocorrencia</th>\n",
              "      <th>classificacao</th>\n",
              "      <th>cidade</th>\n",
              "      <th>uf</th>\n",
              "      <th>pais</th>\n",
              "      <th>aerodromo</th>\n",
              "      <th>total_recomendacoes</th>\n",
              "      <th>n_aeronaves</th>\n",
              "      <th>saida_pista</th>\n",
              "      <th>periodo</th>\n",
              "    </tr>\n",
              "  </thead>\n",
              "  <tbody>\n",
              "    <tr>\n",
              "      <th>0</th>\n",
              "      <td>81027</td>\n",
              "      <td>INCIDENTE GRAVE</td>\n",
              "      <td>SÃO PAULO</td>\n",
              "      <td>SP</td>\n",
              "      <td>BRASIL</td>\n",
              "      <td>SBSP</td>\n",
              "      <td>0</td>\n",
              "      <td>1</td>\n",
              "      <td>SIM</td>\n",
              "      <td>2022-10-09 16:30:00</td>\n",
              "    </tr>\n",
              "    <tr>\n",
              "      <th>1</th>\n",
              "      <td>81030</td>\n",
              "      <td>INCIDENTE</td>\n",
              "      <td>VITÓRIA</td>\n",
              "      <td>ES</td>\n",
              "      <td>BRASIL</td>\n",
              "      <td>SBVT</td>\n",
              "      <td>0</td>\n",
              "      <td>1</td>\n",
              "      <td>NÃO</td>\n",
              "      <td>2022-10-09 16:20:00</td>\n",
              "    </tr>\n",
              "    <tr>\n",
              "      <th>2</th>\n",
              "      <td>81023</td>\n",
              "      <td>INCIDENTE GRAVE</td>\n",
              "      <td>AMERICANA</td>\n",
              "      <td>SP</td>\n",
              "      <td>BRASIL</td>\n",
              "      <td>SDAI</td>\n",
              "      <td>0</td>\n",
              "      <td>1</td>\n",
              "      <td>SIM</td>\n",
              "      <td>2022-10-06 15:30:00</td>\n",
              "    </tr>\n",
              "    <tr>\n",
              "      <th>3</th>\n",
              "      <td>81029</td>\n",
              "      <td>INCIDENTE</td>\n",
              "      <td>BELO HORIZONTE</td>\n",
              "      <td>MG</td>\n",
              "      <td>BRASIL</td>\n",
              "      <td>SBBH</td>\n",
              "      <td>0</td>\n",
              "      <td>1</td>\n",
              "      <td>NÃO</td>\n",
              "      <td>2022-10-06 00:44:00</td>\n",
              "    </tr>\n",
              "    <tr>\n",
              "      <th>4</th>\n",
              "      <td>81025</td>\n",
              "      <td>INCIDENTE</td>\n",
              "      <td>MANAUS</td>\n",
              "      <td>AM</td>\n",
              "      <td>BRASIL</td>\n",
              "      <td>SBEG</td>\n",
              "      <td>0</td>\n",
              "      <td>1</td>\n",
              "      <td>NÃO</td>\n",
              "      <td>2022-10-05 20:56:00</td>\n",
              "    </tr>\n",
              "    <tr>\n",
              "      <th>...</th>\n",
              "      <td>...</td>\n",
              "      <td>...</td>\n",
              "      <td>...</td>\n",
              "      <td>...</td>\n",
              "      <td>...</td>\n",
              "      <td>...</td>\n",
              "      <td>...</td>\n",
              "      <td>...</td>\n",
              "      <td>...</td>\n",
              "      <td>...</td>\n",
              "    </tr>\n",
              "    <tr>\n",
              "      <th>6764</th>\n",
              "      <td>40324</td>\n",
              "      <td>INCIDENTE</td>\n",
              "      <td>PELOTAS</td>\n",
              "      <td>RS</td>\n",
              "      <td>BRASIL</td>\n",
              "      <td>SBPK</td>\n",
              "      <td>0</td>\n",
              "      <td>1</td>\n",
              "      <td>NÃO</td>\n",
              "      <td>2010-01-05 19:25:00</td>\n",
              "    </tr>\n",
              "    <tr>\n",
              "      <th>6765</th>\n",
              "      <td>39527</td>\n",
              "      <td>ACIDENTE</td>\n",
              "      <td>LUCAS DO RIO VERDE</td>\n",
              "      <td>MT</td>\n",
              "      <td>BRASIL</td>\n",
              "      <td>NaN</td>\n",
              "      <td>0</td>\n",
              "      <td>1</td>\n",
              "      <td>NÃO</td>\n",
              "      <td>2010-01-04 17:30:00</td>\n",
              "    </tr>\n",
              "    <tr>\n",
              "      <th>6766</th>\n",
              "      <td>40211</td>\n",
              "      <td>INCIDENTE</td>\n",
              "      <td>RIO DE JANEIRO</td>\n",
              "      <td>RJ</td>\n",
              "      <td>BRASIL</td>\n",
              "      <td>NaN</td>\n",
              "      <td>0</td>\n",
              "      <td>1</td>\n",
              "      <td>NÃO</td>\n",
              "      <td>2010-01-03 12:00:00</td>\n",
              "    </tr>\n",
              "    <tr>\n",
              "      <th>6767</th>\n",
              "      <td>40349</td>\n",
              "      <td>INCIDENTE</td>\n",
              "      <td>BELÉM</td>\n",
              "      <td>PA</td>\n",
              "      <td>BRASIL</td>\n",
              "      <td>SBBE</td>\n",
              "      <td>0</td>\n",
              "      <td>1</td>\n",
              "      <td>NÃO</td>\n",
              "      <td>2010-01-03 11:05:00</td>\n",
              "    </tr>\n",
              "    <tr>\n",
              "      <th>6768</th>\n",
              "      <td>40351</td>\n",
              "      <td>INCIDENTE</td>\n",
              "      <td>RIO DE JANEIRO</td>\n",
              "      <td>RJ</td>\n",
              "      <td>BRASIL</td>\n",
              "      <td>SBRJ</td>\n",
              "      <td>0</td>\n",
              "      <td>1</td>\n",
              "      <td>NÃO</td>\n",
              "      <td>2010-01-03 03:00:00</td>\n",
              "    </tr>\n",
              "  </tbody>\n",
              "</table>\n",
              "<p>6769 rows × 10 columns</p>\n",
              "</div>\n",
              "      <button class=\"colab-df-convert\" onclick=\"convertToInteractive('df-aad20b5b-e2b5-49dd-a894-7e1153995a5e')\"\n",
              "              title=\"Convert this dataframe to an interactive table.\"\n",
              "              style=\"display:none;\">\n",
              "        \n",
              "  <svg xmlns=\"http://www.w3.org/2000/svg\" height=\"24px\"viewBox=\"0 0 24 24\"\n",
              "       width=\"24px\">\n",
              "    <path d=\"M0 0h24v24H0V0z\" fill=\"none\"/>\n",
              "    <path d=\"M18.56 5.44l.94 2.06.94-2.06 2.06-.94-2.06-.94-.94-2.06-.94 2.06-2.06.94zm-11 1L8.5 8.5l.94-2.06 2.06-.94-2.06-.94L8.5 2.5l-.94 2.06-2.06.94zm10 10l.94 2.06.94-2.06 2.06-.94-2.06-.94-.94-2.06-.94 2.06-2.06.94z\"/><path d=\"M17.41 7.96l-1.37-1.37c-.4-.4-.92-.59-1.43-.59-.52 0-1.04.2-1.43.59L10.3 9.45l-7.72 7.72c-.78.78-.78 2.05 0 2.83L4 21.41c.39.39.9.59 1.41.59.51 0 1.02-.2 1.41-.59l7.78-7.78 2.81-2.81c.8-.78.8-2.07 0-2.86zM5.41 20L4 18.59l7.72-7.72 1.47 1.35L5.41 20z\"/>\n",
              "  </svg>\n",
              "      </button>\n",
              "      \n",
              "  <style>\n",
              "    .colab-df-container {\n",
              "      display:flex;\n",
              "      flex-wrap:wrap;\n",
              "      gap: 12px;\n",
              "    }\n",
              "\n",
              "    .colab-df-convert {\n",
              "      background-color: #E8F0FE;\n",
              "      border: none;\n",
              "      border-radius: 50%;\n",
              "      cursor: pointer;\n",
              "      display: none;\n",
              "      fill: #1967D2;\n",
              "      height: 32px;\n",
              "      padding: 0 0 0 0;\n",
              "      width: 32px;\n",
              "    }\n",
              "\n",
              "    .colab-df-convert:hover {\n",
              "      background-color: #E2EBFA;\n",
              "      box-shadow: 0px 1px 2px rgba(60, 64, 67, 0.3), 0px 1px 3px 1px rgba(60, 64, 67, 0.15);\n",
              "      fill: #174EA6;\n",
              "    }\n",
              "\n",
              "    [theme=dark] .colab-df-convert {\n",
              "      background-color: #3B4455;\n",
              "      fill: #D2E3FC;\n",
              "    }\n",
              "\n",
              "    [theme=dark] .colab-df-convert:hover {\n",
              "      background-color: #434B5C;\n",
              "      box-shadow: 0px 1px 3px 1px rgba(0, 0, 0, 0.15);\n",
              "      filter: drop-shadow(0px 1px 2px rgba(0, 0, 0, 0.3));\n",
              "      fill: #FFFFFF;\n",
              "    }\n",
              "  </style>\n",
              "\n",
              "      <script>\n",
              "        const buttonEl =\n",
              "          document.querySelector('#df-aad20b5b-e2b5-49dd-a894-7e1153995a5e button.colab-df-convert');\n",
              "        buttonEl.style.display =\n",
              "          google.colab.kernel.accessAllowed ? 'block' : 'none';\n",
              "\n",
              "        async function convertToInteractive(key) {\n",
              "          const element = document.querySelector('#df-aad20b5b-e2b5-49dd-a894-7e1153995a5e');\n",
              "          const dataTable =\n",
              "            await google.colab.kernel.invokeFunction('convertToInteractive',\n",
              "                                                     [key], {});\n",
              "          if (!dataTable) return;\n",
              "\n",
              "          const docLinkHtml = 'Like what you see? Visit the ' +\n",
              "            '<a target=\"_blank\" href=https://colab.research.google.com/notebooks/data_table.ipynb>data table notebook</a>'\n",
              "            + ' to learn more about interactive tables.';\n",
              "          element.innerHTML = '';\n",
              "          dataTable['output_type'] = 'display_data';\n",
              "          await google.colab.output.renderOutput(dataTable, element);\n",
              "          const docLink = document.createElement('div');\n",
              "          docLink.innerHTML = docLinkHtml;\n",
              "          element.appendChild(docLink);\n",
              "        }\n",
              "      </script>\n",
              "    </div>\n",
              "  </div>\n",
              "  "
            ]
          },
          "metadata": {},
          "execution_count": 50
        }
      ]
    },
    {
      "cell_type": "code",
      "source": [
        "df.dtypes"
      ],
      "metadata": {
        "colab": {
          "base_uri": "https://localhost:8080/"
        },
        "id": "C3-8XJYxZTeY",
        "outputId": "aaf00184-bca8-411b-bf08-8ec24d463a25"
      },
      "execution_count": null,
      "outputs": [
        {
          "output_type": "execute_result",
          "data": {
            "text/plain": [
              "codigo_ocorrencia               int64\n",
              "classificacao                  object\n",
              "cidade                         object\n",
              "uf                             object\n",
              "pais                           object\n",
              "aerodromo                      object\n",
              "total_recomendacoes             int64\n",
              "n_aeronaves                     int64\n",
              "saida_pista                    object\n",
              "periodo                datetime64[ns]\n",
              "dtype: object"
            ]
          },
          "metadata": {},
          "execution_count": 51
        }
      ]
    },
    {
      "cell_type": "markdown",
      "source": [
        "## Busca (query)"
      ],
      "metadata": {
        "id": "9LcW-nb7NfC-"
      }
    },
    {
      "cell_type": "code",
      "source": [
        "# Mostra o dado: [Posição da linha que quer buscar o dado. Colocar o nome do rótulo.] ou [linha:(até)linha] / [[linha, linha, linha]] ou [linha, 'coluna'], ['coluna','coluna'] ou pra mudar da coluna toda [:,'coluna']\n",
        "# Pode alterar o dado se usar o '='\n",
        "df.loc[0,'aerodromo'] #SBSP\n",
        "df.loc[0,'aerodromo'] = 'MARIA'\n"
      ],
      "metadata": {
        "id": "TVP1fZc7NPcn"
      },
      "execution_count": null,
      "outputs": []
    },
    {
      "cell_type": "code",
      "source": [
        "# Usar para alterar valores específicos no dataframe, principalmente se tiver em outra lingua.\n",
        "df.loc[df.classificacao == 'YURI', ['classificacao']] = 'INCIDENTE GRAVE'\n",
        "# loc ou replace? loc para alterar valores especificos. quando é algo geral, que não tem chance de alterar outras colunas, usar replace."
      ],
      "metadata": {
        "id": "Crb6CXrwQSce"
      },
      "execution_count": null,
      "outputs": []
    },
    {
      "cell_type": "code",
      "source": [
        "df.head(20)"
      ],
      "metadata": {
        "id": "21SK1zQvQhGY"
      },
      "execution_count": null,
      "outputs": []
    },
    {
      "cell_type": "code",
      "source": [
        "df.loc[0,'aerodromo'] = 'SBSP'\n",
        "df.loc[0, 'aerodromo']\n"
      ],
      "metadata": {
        "colab": {
          "base_uri": "https://localhost:8080/",
          "height": 35
        },
        "id": "i7G5Wcd_OIMc",
        "outputId": "aada642d-c7af-4a7d-dc8f-46c4d2d358e3"
      },
      "execution_count": null,
      "outputs": [
        {
          "output_type": "execute_result",
          "data": {
            "text/plain": [
              "'SBSP'"
            ],
            "application/vnd.google.colaboratory.intrinsic+json": {
              "type": "string"
            }
          },
          "metadata": {},
          "execution_count": 33
        }
      ]
    },
    {
      "cell_type": "code",
      "source": [
        "# Conversão de tipo das colunas\n",
        "\n",
        "df['coluna'] = df['mesma_coluna'].astype('int')\n"
      ],
      "metadata": {
        "id": "CwRI9w5NYitP"
      },
      "execution_count": null,
      "outputs": []
    },
    {
      "cell_type": "markdown",
      "source": [
        "## Filtros"
      ],
      "metadata": {
        "id": "e9RK0XiaZVAc"
      }
    },
    {
      "cell_type": "code",
      "source": [],
      "metadata": {
        "id": "7_UirvajZ_0K"
      },
      "execution_count": null,
      "outputs": []
    },
    {
      "cell_type": "code",
      "source": [
        "filtronulo = df.uf.isna()\n",
        "df.loc[filtronulo]\n"
      ],
      "metadata": {
        "id": "Ux3gIaTgZWtg"
      },
      "execution_count": null,
      "outputs": []
    },
    {
      "cell_type": "code",
      "source": [
        "filtroincidente = df.classificacao == 'INCIDENTE'\n",
        "df.loc[filtroincidente]\n"
      ],
      "metadata": {
        "id": "yXgCfvpga8Ar"
      },
      "execution_count": null,
      "outputs": []
    },
    {
      "cell_type": "code",
      "source": [
        "# Filtro com mais detalhes:\n",
        "ftcidade = df.cidade == 'SÃO PAULO'\n",
        "ftpista = df.saida_pista == 'SIM'\n",
        "ft2021 = df.data.dt.year == 2021\n",
        "ftuf = df.uf == 'SP'"
      ],
      "metadata": {
        "id": "K8FsgYAFcTXO"
      },
      "execution_count": null,
      "outputs": []
    },
    {
      "cell_type": "code",
      "source": [
        "df.loc[ftcidade & ftpista & ft2021 & ftuf]"
      ],
      "metadata": {
        "id": "32_GkbCPcme3"
      },
      "execution_count": null,
      "outputs": []
    },
    {
      "cell_type": "code",
      "source": [
        "# Filtro para datas:\n",
        "ftabril = df.data.dt.month == 4\n",
        "ftquinz = (df.data.dt.day > 0) & (df.data.dt.day < 16)\n",
        "df.loc[ftabril & ftquinz]\n"
      ],
      "metadata": {
        "id": "6YqAb1d9eD-w"
      },
      "execution_count": null,
      "outputs": []
    },
    {
      "cell_type": "code",
      "source": [
        "# Filtro para palavras terminadas em RIO:\n",
        "filtroletras = df.cidade.str[-3:] == 'RIO'\n",
        "#df.loc[filtroletras]\n",
        "\n",
        "# Filtro para letras dentro do valor: ou: |\n",
        "filtrointerno = df.cidade.str.contains('BO|MA')\n",
        "df.loc[filtrointerno]"
      ],
      "metadata": {
        "id": "vg9vpw8e9eS_"
      },
      "execution_count": null,
      "outputs": []
    },
    {
      "cell_type": "code",
      "source": [
        "df"
      ],
      "metadata": {
        "id": "CwTkhrMS_XTS"
      },
      "execution_count": null,
      "outputs": []
    },
    {
      "cell_type": "markdown",
      "source": [
        "##GroupBY (Agrupamento)"
      ],
      "metadata": {
        "id": "SK-r5I8KEe4y"
      }
    },
    {
      "cell_type": "code",
      "source": [
        "df.groupby(['classificacao']).size().sort_values(ascending=False)"
      ],
      "metadata": {
        "colab": {
          "base_uri": "https://localhost:8080/"
        },
        "id": "7XyRaxP9Eeqb",
        "outputId": "d35409ea-1b9c-48ff-9ee1-17ad96e8a618"
      },
      "execution_count": null,
      "outputs": [
        {
          "output_type": "execute_result",
          "data": {
            "text/plain": [
              "classificacao\n",
              "INCIDENTE          3795\n",
              "ACIDENTE           2090\n",
              "INCIDENTE GRAVE     884\n",
              "dtype: int64"
            ]
          },
          "metadata": {},
          "execution_count": 58
        }
      ]
    },
    {
      "cell_type": "code",
      "source": [
        "#dropna: descartar os NaN (not available, valor ausente). Para incluir os NaN, colocar dropna=False.\n",
        "df.groupby(['aerodromo'],dropna=False).size().sort_values(ascending=False)\n"
      ],
      "metadata": {
        "colab": {
          "base_uri": "https://localhost:8080/"
        },
        "id": "U2dsbG67FV-k",
        "outputId": "6c130779-cbc2-4098-f5d6-c3700ce27e3f"
      },
      "execution_count": null,
      "outputs": [
        {
          "output_type": "execute_result",
          "data": {
            "text/plain": [
              "aerodromo\n",
              "NaN     2618\n",
              "SBGR     173\n",
              "SBMT     150\n",
              "SBKP     128\n",
              "SBBH     124\n",
              "        ... \n",
              "SJVL       1\n",
              "SJTO       1\n",
              "SJOD       1\n",
              "SJNQ       1\n",
              "SJNC       1\n",
              "Length: 574, dtype: int64"
            ]
          },
          "metadata": {},
          "execution_count": 60
        }
      ]
    },
    {
      "cell_type": "code",
      "source": [
        "# filtro sul e incidentes\n",
        "filtrosul = df.uf.isin(['RS', 'PR', 'SC'])\n",
        "dfsul = df.loc[filtroincidente & filtrosul] # criou um dataframe só com a região sul para mostrar os incidentes. "
      ],
      "metadata": {
        "id": "g5ynmIl0HYK4"
      },
      "execution_count": null,
      "outputs": []
    },
    {
      "cell_type": "code",
      "source": [
        "# Agrupamento do novo dataframe criado. Por classificação, uf...\n",
        "dfsul.groupby(['uf']).size().sort_values(ascending=False)\n"
      ],
      "metadata": {
        "id": "1E_a9PQ5Hx8G"
      },
      "execution_count": null,
      "outputs": []
    },
    {
      "cell_type": "code",
      "source": [
        "df.groupby(['uf'], dropna= False).size().sort_values(ascending=False).plot.bar(figsize=(12,8),xlabel='Estado',ylabel='Nº de Ocorrências')"
      ],
      "metadata": {
        "colab": {
          "base_uri": "https://localhost:8080/",
          "height": 523
        },
        "id": "FRBo-576K6ZD",
        "outputId": "75794ddb-b752-4fc3-c219-5ea85d5d5190"
      },
      "execution_count": null,
      "outputs": [
        {
          "output_type": "execute_result",
          "data": {
            "text/plain": [
              "<AxesSubplot:xlabel='Estado', ylabel='Nº de Ocorrências'>"
            ]
          },
          "metadata": {},
          "execution_count": 76
        },
        {
          "output_type": "display_data",
          "data": {
            "text/plain": [
              "<Figure size 864x576 with 1 Axes>"
            ],
            "image/png": "[encoded data removed]"
          },
          "metadata": {
            "needs_background": "light"
          }
        }
      ]
    },
    {
      "cell_type": "code",
      "source": [
        "# QUANDO USAR E QUANDO NÃO USAR O GRAFICO DE PIZZA:\n",
        "# só se usa pra NO MÁXIMO 3 valores que não sejam muito proximos. \n",
        "df.groupby(['saida_pista'], dropna=False).size().sort_values(ascending=False).plot.pie()\n"
      ],
      "metadata": {
        "colab": {
          "base_uri": "https://localhost:8080/",
          "height": 265
        },
        "id": "gAxL8ZiQQ9Gs",
        "outputId": "c6f979bf-b8af-4645-943f-e5a33e595e42"
      },
      "execution_count": null,
      "outputs": [
        {
          "output_type": "execute_result",
          "data": {
            "text/plain": [
              "<AxesSubplot:ylabel='None'>"
            ]
          },
          "metadata": {},
          "execution_count": 75
        },
        {
          "output_type": "display_data",
          "data": {
            "text/plain": [
              "<Figure size 432x288 with 1 Axes>"
            ],
            "image/png": "[encoded data removed]"
          },
          "metadata": {}
        }
      ]
    },
    {
      "cell_type": "code",
      "source": [
        "#dados.gov.br - site de dados do brasil para treino\n"
      ],
      "metadata": {
        "id": "QkyxulnbSdG5"
      },
      "execution_count": null,
      "outputs": []
    },
    {
      "cell_type": "markdown",
      "source": [
        "## LOAD - carregamento (Salvar o DF)"
      ],
      "metadata": {
        "id": "QzhAbdmskpMw"
      }
    },
    {
      "cell_type": "code",
      "source": [
        "# Se não alterar o rótulo padrão, obrigatoriamente tem que salvar o arquivo com index False. Se alterar o index, não colocar.\n",
        "# Salvar localmente:\n",
        "df.to_csv('cenipa_tratado.csv', index=False)\n"
      ],
      "metadata": {
        "id": "9DkmoQrwknfu"
      },
      "execution_count": null,
      "outputs": []
    },
    {
      "cell_type": "code",
      "source": [
        "# Salvar direto no bucket:\n",
        "df.to_csv('gs://larissaadami01/tratados/cenipa_tratado.csv', index=False)\n"
      ],
      "metadata": {
        "id": "pozI15Fpnvq_"
      },
      "execution_count": null,
      "outputs": []
    },
    {
      "cell_type": "code",
      "source": [
        "# SITES PARA BUSCAR DADOS:\n",
        "'''\n",
        "dados.gov.br\n",
        "kaggle.com/datasets\n",
        "'''\n"
      ],
      "metadata": {
        "id": "gdVZR29S_bUr"
      },
      "execution_count": null,
      "outputs": []
    }
  ]
}