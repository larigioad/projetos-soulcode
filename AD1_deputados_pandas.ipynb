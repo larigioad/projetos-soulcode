{
  "nbformat": 4,
  "nbformat_minor": 0,
  "metadata": {
    "colab": {
      "provenance": [],
      "authorship_tag": "ABX9TyMgSyB98RLHMr8J8Dr7qmA1",
      "include_colab_link": true
    },
    "kernelspec": {
      "name": "python3",
      "display_name": "Python 3"
    },
    "language_info": {
      "name": "python"
    }
  },
  "cells": [
    {
      "cell_type": "markdown",
      "metadata": {
        "id": "view-in-github",
        "colab_type": "text"
      },
      "source": [
        "<a href=\"https://colab.research.google.com/github/larigioad/projetos-soulcode/blob/main/AD1_deputados_pandas.ipynb\" target=\"_parent\"><img src=\"https://colab.research.google.com/assets/colab-badge.svg\" alt=\"Open In Colab\"/></a>"
      ]
    },
    {
      "cell_type": "code",
      "source": [
        "import pymongo\n",
        "from pymongo import MongoClient"
      ],
      "metadata": {
        "id": "zA275ZjN-PRG"
      },
      "execution_count": null,
      "outputs": []
    },
    {
      "cell_type": "code",
      "source": [
        "uri = \"mongodb+srv://larigioad.xj2ckxw.mongodb.net/?authSource=%24external&authMechanism=MONGODB-X509&retryWrites=true&w=majority\"\n",
        "client = MongoClient(uri,\n",
        "                     tls=True,\n",
        "                     tlsCertificateKeyFile='/content/X509-cert-1801012685387590698.pem',\n",
        "                     )\n",
        "\n",
        "\n",
        "db = client['brutos']\n",
        "collection = db['depsp_bruto']"
      ],
      "metadata": {
        "id": "GAOVC-U_-VwX"
      },
      "execution_count": null,
      "outputs": []
    },
    {
      "cell_type": "code",
      "source": [],
      "metadata": {
        "id": "E0UsuNQ0-h5e"
      },
      "execution_count": null,
      "outputs": []
    },
    {
      "cell_type": "code",
      "execution_count": null,
      "metadata": {
        "id": "vj4d1R1DKfWi"
      },
      "outputs": [],
      "source": [
        "pip install gcsfs"
      ]
    },
    {
      "cell_type": "code",
      "source": [
        "import pandas as pd\n",
        "import os\n",
        "import numpy as np\n",
        "from google.cloud import storage"
      ],
      "metadata": {
        "id": "QerQC5y8Kvau"
      },
      "execution_count": null,
      "outputs": []
    },
    {
      "cell_type": "code",
      "source": [
        "df = pd.read_csv('https://storage.googleapis.com/igorgondimfreebuck/depsp.csv', sep=',') "
      ],
      "metadata": {
        "colab": {
          "base_uri": "https://localhost:8080/"
        },
        "id": "umvjhXs3MJZT",
        "outputId": "831d6b37-790d-448c-fe54-8df9895974e7"
      },
      "execution_count": null,
      "outputs": [
        {
          "output_type": "stream",
          "name": "stderr",
          "text": [
            "/usr/local/lib/python3.9/dist-packages/IPython/core/interactiveshell.py:3326: DtypeWarning: Columns (4) have mixed types.Specify dtype option on import or set low_memory=False.\n",
            "  exec(code_obj, self.user_global_ns, self.user_ns)\n"
          ]
        }
      ]
    },
    {
      "cell_type": "code",
      "source": [],
      "metadata": {
        "id": "oKoHxuNc-H3N"
      },
      "execution_count": null,
      "outputs": []
    },
    {
      "cell_type": "code",
      "source": [
        "df"
      ],
      "metadata": {
        "colab": {
          "base_uri": "https://localhost:8080/",
          "height": 349
        },
        "id": "x-iYmlKKRDrI",
        "outputId": "7c9d88ce-abfb-4a20-ce2c-e550e2dd8d9b"
      },
      "execution_count": null,
      "outputs": [
        {
          "output_type": "execute_result",
          "data": {
            "text/plain": [
              "         Ano  Matricula  Mes    Valor              CNPJ            Deputado  \\\n",
              "0       2015     300257    3   200.00    71806251000106  ABELARDO CAMARINHA   \n",
              "1       2015     300257    3   295.40    68064740000125  ABELARDO CAMARINHA   \n",
              "2       2015     300257    3  2850.00       22145388877  ABELARDO CAMARINHA   \n",
              "3       2015     300257    4   100.00    10915883000113  ABELARDO CAMARINHA   \n",
              "4       2015     300257    4   195.01    71806251000106  ABELARDO CAMARINHA   \n",
              "...      ...        ...  ...      ...               ...                 ...   \n",
              "542390  2007     300441    3   120.00   6306675000140.0       ÍTALO CARDOSO   \n",
              "542391  2007     300441    3  2096.80  52204617000122.0       ÍTALO CARDOSO   \n",
              "542392  2007     300441    3    13.48  62925474000282.0       ÍTALO CARDOSO   \n",
              "542393  2007     300441    3    38.08  66747577000170.0       ÍTALO CARDOSO   \n",
              "542394  2007     300441    3  2994.00   7047000000196.0       ÍTALO CARDOSO   \n",
              "\n",
              "                                                     Tipo  \\\n",
              "0                        A - COMBUSTÍVEIS E LUBRIFICANTES   \n",
              "1       E - MATERIAIS DE ESCRITÓRIO E OUTROS MATERIAIS...   \n",
              "2                                             N - MORADIA   \n",
              "3                        A - COMBUSTÍVEIS E LUBRIFICANTES   \n",
              "4                        A - COMBUSTÍVEIS E LUBRIFICANTES   \n",
              "...                                                   ...   \n",
              "542390  I - HOSPEDAGEM, ALIMENTAÇÃO E DESPESAS DE LOCO...   \n",
              "542391  I - HOSPEDAGEM, ALIMENTAÇÃO E DESPESAS DE LOCO...   \n",
              "542392  I - HOSPEDAGEM, ALIMENTAÇÃO E DESPESAS DE LOCO...   \n",
              "542393  I - HOSPEDAGEM, ALIMENTAÇÃO E DESPESAS DE LOCO...   \n",
              "542394                        J - SERVIÇOS DE COMUNICAÇÃO   \n",
              "\n",
              "                                       Fornecedor  \n",
              "0                AUTO POSTO DE SERVIÇOS MARV LTDA  \n",
              "1                       PAPER FACE COMERCIAL LTDA  \n",
              "2                       LARA SERVINO VARGAS ABREU  \n",
              "3                   CENTRO AUTOMOTIVO TOP 23 LTDA  \n",
              "4                AUTO POSTO DE SERVIÇOS MARV LTDA  \n",
              "...                                           ...  \n",
              "542390                        OPTEI EXPRESS LTDA.  \n",
              "542391                   CHURRASCARIA JANDA LTDA.  \n",
              "542392  ASSOCIAÇÃO FUNC.ASSEMB.LEG. EST.SÃO PAULO  \n",
              "542393              IBIZA EUROPEIA ALIMENTOS LTDA  \n",
              "542394         ECT-EMP.BRAS.CORREIOS E TELEGRAFOS  \n",
              "\n",
              "[542395 rows x 8 columns]"
            ],
            "text/html": [
              "\n",
              "  <div id=\"df-2d1f4ec4-e14e-4130-8172-bcd1e2f3bd90\">\n",
              "    <div class=\"colab-df-container\">\n",
              "      <div>\n",
              "<style scoped>\n",
              "    .dataframe tbody tr th:only-of-type {\n",
              "        vertical-align: middle;\n",
              "    }\n",
              "\n",
              "    .dataframe tbody tr th {\n",
              "        vertical-align: top;\n",
              "    }\n",
              "\n",
              "    .dataframe thead th {\n",
              "        text-align: right;\n",
              "    }\n",
              "</style>\n",
              "<table border=\"1\" class=\"dataframe\">\n",
              "  <thead>\n",
              "    <tr style=\"text-align: right;\">\n",
              "      <th></th>\n",
              "      <th>Ano</th>\n",
              "      <th>Matricula</th>\n",
              "      <th>Mes</th>\n",
              "      <th>Valor</th>\n",
              "      <th>CNPJ</th>\n",
              "      <th>Deputado</th>\n",
              "      <th>Tipo</th>\n",
              "      <th>Fornecedor</th>\n",
              "    </tr>\n",
              "  </thead>\n",
              "  <tbody>\n",
              "    <tr>\n",
              "      <th>0</th>\n",
              "      <td>2015</td>\n",
              "      <td>300257</td>\n",
              "      <td>3</td>\n",
              "      <td>200.00</td>\n",
              "      <td>71806251000106</td>\n",
              "      <td>ABELARDO CAMARINHA</td>\n",
              "      <td>A - COMBUSTÍVEIS E LUBRIFICANTES</td>\n",
              "      <td>AUTO POSTO DE SERVIÇOS MARV LTDA</td>\n",
              "    </tr>\n",
              "    <tr>\n",
              "      <th>1</th>\n",
              "      <td>2015</td>\n",
              "      <td>300257</td>\n",
              "      <td>3</td>\n",
              "      <td>295.40</td>\n",
              "      <td>68064740000125</td>\n",
              "      <td>ABELARDO CAMARINHA</td>\n",
              "      <td>E - MATERIAIS DE ESCRITÓRIO E OUTROS MATERIAIS...</td>\n",
              "      <td>PAPER FACE COMERCIAL LTDA</td>\n",
              "    </tr>\n",
              "    <tr>\n",
              "      <th>2</th>\n",
              "      <td>2015</td>\n",
              "      <td>300257</td>\n",
              "      <td>3</td>\n",
              "      <td>2850.00</td>\n",
              "      <td>22145388877</td>\n",
              "      <td>ABELARDO CAMARINHA</td>\n",
              "      <td>N - MORADIA</td>\n",
              "      <td>LARA SERVINO VARGAS ABREU</td>\n",
              "    </tr>\n",
              "    <tr>\n",
              "      <th>3</th>\n",
              "      <td>2015</td>\n",
              "      <td>300257</td>\n",
              "      <td>4</td>\n",
              "      <td>100.00</td>\n",
              "      <td>10915883000113</td>\n",
              "      <td>ABELARDO CAMARINHA</td>\n",
              "      <td>A - COMBUSTÍVEIS E LUBRIFICANTES</td>\n",
              "      <td>CENTRO AUTOMOTIVO TOP 23 LTDA</td>\n",
              "    </tr>\n",
              "    <tr>\n",
              "      <th>4</th>\n",
              "      <td>2015</td>\n",
              "      <td>300257</td>\n",
              "      <td>4</td>\n",
              "      <td>195.01</td>\n",
              "      <td>71806251000106</td>\n",
              "      <td>ABELARDO CAMARINHA</td>\n",
              "      <td>A - COMBUSTÍVEIS E LUBRIFICANTES</td>\n",
              "      <td>AUTO POSTO DE SERVIÇOS MARV LTDA</td>\n",
              "    </tr>\n",
              "    <tr>\n",
              "      <th>...</th>\n",
              "      <td>...</td>\n",
              "      <td>...</td>\n",
              "      <td>...</td>\n",
              "      <td>...</td>\n",
              "      <td>...</td>\n",
              "      <td>...</td>\n",
              "      <td>...</td>\n",
              "      <td>...</td>\n",
              "    </tr>\n",
              "    <tr>\n",
              "      <th>542390</th>\n",
              "      <td>2007</td>\n",
              "      <td>300441</td>\n",
              "      <td>3</td>\n",
              "      <td>120.00</td>\n",
              "      <td>6306675000140.0</td>\n",
              "      <td>ÍTALO CARDOSO</td>\n",
              "      <td>I - HOSPEDAGEM, ALIMENTAÇÃO E DESPESAS DE LOCO...</td>\n",
              "      <td>OPTEI EXPRESS LTDA.</td>\n",
              "    </tr>\n",
              "    <tr>\n",
              "      <th>542391</th>\n",
              "      <td>2007</td>\n",
              "      <td>300441</td>\n",
              "      <td>3</td>\n",
              "      <td>2096.80</td>\n",
              "      <td>52204617000122.0</td>\n",
              "      <td>ÍTALO CARDOSO</td>\n",
              "      <td>I - HOSPEDAGEM, ALIMENTAÇÃO E DESPESAS DE LOCO...</td>\n",
              "      <td>CHURRASCARIA JANDA LTDA.</td>\n",
              "    </tr>\n",
              "    <tr>\n",
              "      <th>542392</th>\n",
              "      <td>2007</td>\n",
              "      <td>300441</td>\n",
              "      <td>3</td>\n",
              "      <td>13.48</td>\n",
              "      <td>62925474000282.0</td>\n",
              "      <td>ÍTALO CARDOSO</td>\n",
              "      <td>I - HOSPEDAGEM, ALIMENTAÇÃO E DESPESAS DE LOCO...</td>\n",
              "      <td>ASSOCIAÇÃO FUNC.ASSEMB.LEG. EST.SÃO PAULO</td>\n",
              "    </tr>\n",
              "    <tr>\n",
              "      <th>542393</th>\n",
              "      <td>2007</td>\n",
              "      <td>300441</td>\n",
              "      <td>3</td>\n",
              "      <td>38.08</td>\n",
              "      <td>66747577000170.0</td>\n",
              "      <td>ÍTALO CARDOSO</td>\n",
              "      <td>I - HOSPEDAGEM, ALIMENTAÇÃO E DESPESAS DE LOCO...</td>\n",
              "      <td>IBIZA EUROPEIA ALIMENTOS LTDA</td>\n",
              "    </tr>\n",
              "    <tr>\n",
              "      <th>542394</th>\n",
              "      <td>2007</td>\n",
              "      <td>300441</td>\n",
              "      <td>3</td>\n",
              "      <td>2994.00</td>\n",
              "      <td>7047000000196.0</td>\n",
              "      <td>ÍTALO CARDOSO</td>\n",
              "      <td>J - SERVIÇOS DE COMUNICAÇÃO</td>\n",
              "      <td>ECT-EMP.BRAS.CORREIOS E TELEGRAFOS</td>\n",
              "    </tr>\n",
              "  </tbody>\n",
              "</table>\n",
              "<p>542395 rows × 8 columns</p>\n",
              "</div>\n",
              "      <button class=\"colab-df-convert\" onclick=\"convertToInteractive('df-2d1f4ec4-e14e-4130-8172-bcd1e2f3bd90')\"\n",
              "              title=\"Convert this dataframe to an interactive table.\"\n",
              "              style=\"display:none;\">\n",
              "        \n",
              "  <svg xmlns=\"http://www.w3.org/2000/svg\" height=\"24px\"viewBox=\"0 0 24 24\"\n",
              "       width=\"24px\">\n",
              "    <path d=\"M0 0h24v24H0V0z\" fill=\"none\"/>\n",
              "    <path d=\"M18.56 5.44l.94 2.06.94-2.06 2.06-.94-2.06-.94-.94-2.06-.94 2.06-2.06.94zm-11 1L8.5 8.5l.94-2.06 2.06-.94-2.06-.94L8.5 2.5l-.94 2.06-2.06.94zm10 10l.94 2.06.94-2.06 2.06-.94-2.06-.94-.94-2.06-.94 2.06-2.06.94z\"/><path d=\"M17.41 7.96l-1.37-1.37c-.4-.4-.92-.59-1.43-.59-.52 0-1.04.2-1.43.59L10.3 9.45l-7.72 7.72c-.78.78-.78 2.05 0 2.83L4 21.41c.39.39.9.59 1.41.59.51 0 1.02-.2 1.41-.59l7.78-7.78 2.81-2.81c.8-.78.8-2.07 0-2.86zM5.41 20L4 18.59l7.72-7.72 1.47 1.35L5.41 20z\"/>\n",
              "  </svg>\n",
              "      </button>\n",
              "      \n",
              "  <style>\n",
              "    .colab-df-container {\n",
              "      display:flex;\n",
              "      flex-wrap:wrap;\n",
              "      gap: 12px;\n",
              "    }\n",
              "\n",
              "    .colab-df-convert {\n",
              "      background-color: #E8F0FE;\n",
              "      border: none;\n",
              "      border-radius: 50%;\n",
              "      cursor: pointer;\n",
              "      display: none;\n",
              "      fill: #1967D2;\n",
              "      height: 32px;\n",
              "      padding: 0 0 0 0;\n",
              "      width: 32px;\n",
              "    }\n",
              "\n",
              "    .colab-df-convert:hover {\n",
              "      background-color: #E2EBFA;\n",
              "      box-shadow: 0px 1px 2px rgba(60, 64, 67, 0.3), 0px 1px 3px 1px rgba(60, 64, 67, 0.15);\n",
              "      fill: #174EA6;\n",
              "    }\n",
              "\n",
              "    [theme=dark] .colab-df-convert {\n",
              "      background-color: #3B4455;\n",
              "      fill: #D2E3FC;\n",
              "    }\n",
              "\n",
              "    [theme=dark] .colab-df-convert:hover {\n",
              "      background-color: #434B5C;\n",
              "      box-shadow: 0px 1px 3px 1px rgba(0, 0, 0, 0.15);\n",
              "      filter: drop-shadow(0px 1px 2px rgba(0, 0, 0, 0.3));\n",
              "      fill: #FFFFFF;\n",
              "    }\n",
              "  </style>\n",
              "\n",
              "      <script>\n",
              "        const buttonEl =\n",
              "          document.querySelector('#df-2d1f4ec4-e14e-4130-8172-bcd1e2f3bd90 button.colab-df-convert');\n",
              "        buttonEl.style.display =\n",
              "          google.colab.kernel.accessAllowed ? 'block' : 'none';\n",
              "\n",
              "        async function convertToInteractive(key) {\n",
              "          const element = document.querySelector('#df-2d1f4ec4-e14e-4130-8172-bcd1e2f3bd90');\n",
              "          const dataTable =\n",
              "            await google.colab.kernel.invokeFunction('convertToInteractive',\n",
              "                                                     [key], {});\n",
              "          if (!dataTable) return;\n",
              "\n",
              "          const docLinkHtml = 'Like what you see? Visit the ' +\n",
              "            '<a target=\"_blank\" href=https://colab.research.google.com/notebooks/data_table.ipynb>data table notebook</a>'\n",
              "            + ' to learn more about interactive tables.';\n",
              "          element.innerHTML = '';\n",
              "          dataTable['output_type'] = 'display_data';\n",
              "          await google.colab.output.renderOutput(dataTable, element);\n",
              "          const docLink = document.createElement('div');\n",
              "          docLink.innerHTML = docLinkHtml;\n",
              "          element.appendChild(docLink);\n",
              "        }\n",
              "      </script>\n",
              "    </div>\n",
              "  </div>\n",
              "  "
            ]
          },
          "metadata": {},
          "execution_count": 4
        },
        {
          "output_type": "stream",
          "name": "stdout",
          "text": [
            "Warning: total number of rows (542395) exceeds max_rows (20000). Limiting to first (20000) rows.\n"
          ]
        }
      ]
    },
    {
      "cell_type": "code",
      "source": [
        "df.dtypes"
      ],
      "metadata": {
        "colab": {
          "base_uri": "https://localhost:8080/"
        },
        "id": "A8wBNJM2wTpo",
        "outputId": "4058b945-048f-4cc1-d75f-0c1a143da72c"
      },
      "execution_count": null,
      "outputs": [
        {
          "output_type": "execute_result",
          "data": {
            "text/plain": [
              "Ano             int64\n",
              "Matricula       int64\n",
              "Mes             int64\n",
              "Valor         float64\n",
              "CNPJ           object\n",
              "Deputado       object\n",
              "Tipo           object\n",
              "Fornecedor     object\n",
              "dtype: object"
            ]
          },
          "metadata": {},
          "execution_count": 5
        }
      ]
    },
    {
      "cell_type": "code",
      "source": [
        "df.info()"
      ],
      "metadata": {
        "colab": {
          "base_uri": "https://localhost:8080/"
        },
        "id": "rylmC8_1wYDp",
        "outputId": "7098ab19-06ec-4003-d900-c829503c5cc2"
      },
      "execution_count": null,
      "outputs": [
        {
          "output_type": "stream",
          "name": "stdout",
          "text": [
            "<class 'pandas.core.frame.DataFrame'>\n",
            "RangeIndex: 542395 entries, 0 to 542394\n",
            "Data columns (total 8 columns):\n",
            " #   Column      Non-Null Count   Dtype  \n",
            "---  ------      --------------   -----  \n",
            " 0   Ano         542395 non-null  int64  \n",
            " 1   Matricula   542395 non-null  int64  \n",
            " 2   Mes         542395 non-null  int64  \n",
            " 3   Valor       542395 non-null  float64\n",
            " 4   CNPJ        531428 non-null  object \n",
            " 5   Deputado    542395 non-null  object \n",
            " 6   Tipo        542395 non-null  object \n",
            " 7   Fornecedor  542395 non-null  object \n",
            "dtypes: float64(1), int64(3), object(4)\n",
            "memory usage: 33.1+ MB\n"
          ]
        }
      ]
    },
    {
      "cell_type": "code",
      "source": [
        "sorted(pd.unique(df['Ano']))"
      ],
      "metadata": {
        "id": "gGtX-gNJSzRR"
      },
      "execution_count": null,
      "outputs": []
    },
    {
      "cell_type": "code",
      "source": [
        "# CRIANDO UM BACKUP:\n",
        "dfback = df.copy()"
      ],
      "metadata": {
        "id": "imttrK9CY9jS"
      },
      "execution_count": null,
      "outputs": []
    },
    {
      "cell_type": "code",
      "source": [
        "# QUANTIDADE DE VALORES NULOS:\n",
        "df.isna().sum()"
      ],
      "metadata": {
        "colab": {
          "base_uri": "https://localhost:8080/"
        },
        "id": "hyy3A4OiaWyo",
        "outputId": "362638d5-5bec-4be7-e3a2-15501bdef4e6"
      },
      "execution_count": null,
      "outputs": [
        {
          "output_type": "execute_result",
          "data": {
            "text/plain": [
              "Ano               0\n",
              "Matricula         0\n",
              "Mes               0\n",
              "Valor             0\n",
              "CNPJ          10967\n",
              "Deputado          0\n",
              "Tipo              0\n",
              "Fornecedor        0\n",
              "dtype: int64"
            ]
          },
          "metadata": {},
          "execution_count": 9
        }
      ]
    },
    {
      "cell_type": "code",
      "source": [
        "df.count()"
      ],
      "metadata": {
        "colab": {
          "base_uri": "https://localhost:8080/"
        },
        "id": "YixjxvLEwoVz",
        "outputId": "0fac8ddc-9786-480a-c36b-6e60040a583b"
      },
      "execution_count": null,
      "outputs": [
        {
          "output_type": "execute_result",
          "data": {
            "text/plain": [
              "Ano           542395\n",
              "Matricula     542395\n",
              "Mes           542395\n",
              "Valor         542395\n",
              "CNPJ          531428\n",
              "Deputado      542395\n",
              "Tipo          542395\n",
              "Fornecedor    542395\n",
              "dtype: int64"
            ]
          },
          "metadata": {},
          "execution_count": 10
        }
      ]
    },
    {
      "cell_type": "code",
      "source": [
        "df.CNPJ = df.CNPJ.replace('O','0')"
      ],
      "metadata": {
        "id": "9HmXCU1ujFdh"
      },
      "execution_count": null,
      "outputs": []
    },
    {
      "cell_type": "code",
      "source": [
        "# Checando se existem inconsistências nos fornecedores:\n",
        "df.groupby('Fornecedor').size().sort_values(ascending=False).head(100).index"
      ],
      "metadata": {
        "colab": {
          "base_uri": "https://localhost:8080/"
        },
        "id": "HuWKJAMNtKW-",
        "outputId": "bc206ecb-49e5-471a-f2c7-a57e3c8a6a32"
      },
      "execution_count": null,
      "outputs": [
        {
          "output_type": "execute_result",
          "data": {
            "text/plain": [
              "Index(['PEDÁGIO', 'TAXI', 'TELEFONICA BRASIL S.A.', 'CLARO S/A',\n",
              "       'TELEFONICA BRASIL S.A', 'NEXTEL TELECOMUNICAÇÕES LTDA', 'VIVO',\n",
              "       'SABESP', 'VIVO S.A.', 'TELEFÔNICA BRASIL S.A.', 'TELEFONICA',\n",
              "       'COMPANHIA PAULISTA DE FORÇA E LUZ', 'TELEFONICA BRASIL S/A',\n",
              "       'WAGNER HUBERT EPP', 'TELESP CELULAR S/A',\n",
              "       'UNIDAS VEÍCULOS ESPECIAIS S.A.', 'TELEFONICA BRASIL SA',\n",
              "       'NET SERVIÇOS DE COMUNICAÇÃO S/A', 'CLARO S.A.',\n",
              "       'ELETROPAULO METROPOLITANA ELETRICIDADE DE SÃO PAULO S.A.',\n",
              "       'TERRA NETWORKS BRASIL S/A', 'UOL',\n",
              "       'COMPANHIA PIRATININGA DE FORÇA E LUZ',\n",
              "       'CIA BRASILEIRA DE DISTRIBUIÇÃO', 'ELETROPAULO',\n",
              "       'ECT - EMP. BRAS. DE CORREIOS E TELEGRAFOS',\n",
              "       'COMERCIAL FRANGO ASSADO LTDA', 'CLARO S.A',\n",
              "       'NEXTEL TELECOMUNICAÇÕES LTDA.', 'EMBRATEL', 'NET',\n",
              "       'TELEFÔNICA BRASIL S.A', 'KALUNGA COM. E IND. GRÁFICA LTDA.',\n",
              "       'POSTO BRIGADEIRO LTDA', 'INSTITUTO MENSAGEIROS',\n",
              "       'GABRIEL ALFIO TOMASELLI', 'CPFL ENERGIA', 'EMPRESA FOLHA DA MANHÃ S/A',\n",
              "       'AES ELETROPAULO', 'TIM CELULAR S.A.', 'KALUNGA',\n",
              "       'MARCELO LOPES GUARALDO', 'KALUNGA COMERCIO E IND. GRAFICA LTDA',\n",
              "       'WORK LINE SYSTEM INFORMATICA LTDA', 'UNIVERSO ONLINE S.A.', 'NEXTEL',\n",
              "       'ITORORO VEICULOS E PEÇAS LTDA',\n",
              "       'COMPANHIA DE SANEAMENTO BÁSICO DO ESTADO DE SÃO PAULO - SABESP',\n",
              "       'KALUNGA COM. E IND. GRAFICA LTDA', 'TELEFÔNICA BRASIL S/A',\n",
              "       'TELESP CELULAR', 'VIVO S/A', 'EMPRESA FOLHA DA MANHA S/A',\n",
              "       'COMPANHIA DE SANEAMENTO BÁSICO DO ESTADO DE SÃO PAULO',\n",
              "       'RESTAURANTE AFALESP', 'SOLARYS SOLUÇÕES DIGITAIS LTDA - ME',\n",
              "       'KALUNGA COMERCIO E INDUSTRIA GRAFICA LTDA',\n",
              "       'KALUNGA COM. E IND. GRÁFICA LTDA',\n",
              "       'EMPRESA BRASILEIRA DE TELECOMUNICAÇÕES S/A',\n",
              "       'LOCAWEB SERVIÇOS DE INTERNET S/A',\n",
              "       'AUTO POSTO JD. PAULISTA E SERVIÇOS LTDA', 'NEVADA RENT A CAR LTDA',\n",
              "       'REQUINTE RESTAURANTE LTDA', 'CPFL',\n",
              "       'AUTO POSTO JARDIM PAULISTA E SERVIÇOS LTDA', 'RODOPOSTO RUBI LTDA',\n",
              "       'VIVO S.A', 'TELECOMUNICAÇÕES DE SÃO PAULO S.A - TELESP',\n",
              "       'ECT - EMPRESA BRASILEIRA DE CORREIOS E TELÉGRAFOS',\n",
              "       'BANDEIRANTE ENERGIA S.A.', 'KALUNGA COMERCIO E IND GRAFICA LTDA',\n",
              "       'LANCHES RODOSERV LTDA', 'CIA. BRASILEIRA DE DISTRIBUIÇÃO',\n",
              "       'AUTO POSTO JARDIM PAULISTA E SERVIÇOS LTDA.',\n",
              "       'CARREFOUR COMERCIO E INDUSTRIA LTDA', 'ALGAR TELECOM S/A', 'CLARO SA',\n",
              "       'ELETROPAULO METROPOLITANA ELETRICIDADE DE SÃO PAULO S/A',\n",
              "       'REQUINTE RESTAURANTE LTDA.',\n",
              "       'EMPRESA BRASILEIRA DE CORREIOS E TELEGRAFOS',\n",
              "       'SOLARYS SOLUÇÕES DIGITAIS LTDA', 'TELEFÔNICA',\n",
              "       'KALUNGA COMERCIO INDUSTRIA GRAFICA LTDA',\n",
              "       'ECT - EMP. BRAS. CORREIOS E TELEGRAFOS',\n",
              "       'ECT - EMPRESA BRASILEIRA DE CORREIOS E TELEGRAFOS',\n",
              "       'EXPRESSO DE PRATA LTDA', 'ECT-EMP. BRAS. DE CORREIOS E TELEGRAFOS',\n",
              "       'UNIVERSO ONLINE S.A', 'CLARO', 'PREFEITURA DE SÃO PAULO',\n",
              "       'TELECOMUNICAÇÕES DE SÃO PAULO S.A.', 'POSTO RODOSERV LTDA',\n",
              "       'CASTELO POSTOS E SERVIÇOS LTDA', 'TELEFÕNICA BRASIL S.A',\n",
              "       'MAKRO ATACADISTA S/A',\n",
              "       'CONDE & DELL ARINGA DESENVOLVIMENTO DE SOFTWARES LTDA - EPP',\n",
              "       'COMERCIAL GUILHERME MAMPRIM LTDA', 'VIAÇÃO COMETA S.A.',\n",
              "       'COMERCIAL FRANGO ASSADO LTDA.',\n",
              "       'ELETROPAULO METROPOLITANA ELETRICIDADE DE SÃO PAULO S.A'],\n",
              "      dtype='object', name='Fornecedor')"
            ]
          },
          "metadata": {},
          "execution_count": 11
        }
      ]
    },
    {
      "cell_type": "code",
      "source": [
        "correcoes = { \n",
        "    'VIVO':'VIVO S.A.', \n",
        "    'TELEFONICA BRASIL S.A':'TELEFONICA BRASIL S.A.', \n",
        "    'NEXTEL TELECOMUNICAÇÕES LTDA':'NEXTEL TELECOMUNICAÇÕES LTDA.', \n",
        "    'SABESP':'COMPANHIA DE SANEAMENTO BÁSICO DO ESTADO DE SÃO PAULO - SABESP',\n",
        "    'TELEFÔNICA BRASIL S.A.':'TELEFONICA BRASIL S.A.',\n",
        "    'TELEFONICA': 'TELEFONICA BRASIL S.A.',\n",
        "    'COMPANHIA PAULISTA DE FORÇA E LUZ':'CPFL ENERGIA', \n",
        "    'TELEFONICA BRASIL S/A':'TELEFONICA BRASIL S.A.',\n",
        "    'TELEFONICA BRASIL SA':'TELEFONICA BRASIL S.A.',\n",
        "    'CLARO S.A.':'CLARO S/A',\n",
        "    'ELETROPAULO METROPOLITANA ELETRICIDADE DE SÃO PAULO S.A.':'ELETROPAULO',\n",
        "    'ELETROPAULO':'AES ELETROPAULO',\n",
        "    'CLARO S.A':'CLARO S/A',\n",
        "    'NEXTEL TELECOMUNICAÇÕES LTDA.':'NEXTEL TELECOMUNICAÇÕES LTDA', \n",
        "    'NET':'NET SERVIÇOS DE COMUNICAÇÃO S/A',\n",
        "    'TELEFÔNICA BRASIL S.A':'TELEFONICA BRASIL S.A.',  \n",
        "    'KALUNGA':'KALUNGA COM. E IND. GRÁFICA LTDA.',\n",
        "    'KALUNGA COMERCIO E IND. GRAFICA LTDA':'KALUNGA COM. E IND. GRÁFICA LTDA.',\n",
        "    'NEXTEL':'NEXTEL TELECOMUNICAÇÕES LTDA',\n",
        "    'KALUNGA COM. E IND. GRAFICA LTDA':'KALUNGA COM. E IND. GRÁFICA LTDA.', \n",
        "    'TELEFÔNICA BRASIL S/A':'TELEFONICA BRASIL S.A.',\n",
        "    'TELESP CELULAR':'TELESP CELULAR S/A'\n",
        "}\n",
        "  \n",
        "for key, value in correcoes.items():\n",
        "  df.loc[df.Fornecedor==key,'Fornecedor'] = value"
      ],
      "metadata": {
        "id": "u6fzrV4hAoPx"
      },
      "execution_count": null,
      "outputs": []
    },
    {
      "cell_type": "code",
      "source": [
        "# DEPUTADOS QUE MAIS GASTARAM:\n",
        "df.groupby('Deputado')['Valor'].sum().sort_values(ascending=False).head(3)"
      ],
      "metadata": {
        "colab": {
          "base_uri": "https://localhost:8080/"
        },
        "id": "tbIUzf7Wf1nP",
        "outputId": "d12b4ab7-2d11-40f3-8345-c3e88dfbe90a"
      },
      "execution_count": null,
      "outputs": [
        {
          "output_type": "execute_result",
          "data": {
            "text/plain": [
              "Deputado\n",
              "CAMPOS MACHADO       5691197.91\n",
              "ENIO TATTO           5363451.90\n",
              "MARIA LÚCIA AMARY    5297913.91\n",
              "Name: Valor, dtype: float64"
            ]
          },
          "metadata": {},
          "execution_count": 14
        }
      ]
    },
    {
      "cell_type": "code",
      "source": [
        "# DEMONSTRAÇÃO VISUAL DOS DEPUTADOS QUE MAIS GASTARAM:\n",
        "df.groupby('Deputado')['Valor'].sum().sort_values(ascending=False).head(3).plot.bar(figsize=(12,8), xlabel = 'Nome do deputado', ylabel= 'Valor gasto')"
      ],
      "metadata": {
        "colab": {
          "base_uri": "https://localhost:8080/",
          "height": 617
        },
        "id": "q-nFTyDxkTYQ",
        "outputId": "a4dd8fe1-be7d-481b-8cef-182fd365ce9f"
      },
      "execution_count": null,
      "outputs": [
        {
          "output_type": "execute_result",
          "data": {
            "text/plain": [
              "<AxesSubplot:xlabel='Nome do deputado', ylabel='Valor gasto'>"
            ]
          },
          "metadata": {},
          "execution_count": 15
        },
        {
          "output_type": "display_data",
          "data": {
            "text/plain": [
              "<Figure size 864x576 with 1 Axes>"
            ],
            "image/png": "[encoded data removed]"
          },
          "metadata": {
            "needs_background": "light"
          }
        }
      ]
    },
    {
      "cell_type": "code",
      "source": [
        "# DEPUTADOS QUE MENOS GASTARAM:\n",
        "df.groupby('Deputado')['Valor'].sum().sort_values().head(3)"
      ],
      "metadata": {
        "colab": {
          "base_uri": "https://localhost:8080/"
        },
        "id": "JerdPEE7f_7K",
        "outputId": "4348544e-8e39-449f-8ff2-fc477efaa3e5"
      },
      "execution_count": null,
      "outputs": [
        {
          "output_type": "execute_result",
          "data": {
            "text/plain": [
              "Deputado\n",
              "ANTÔNIO AGUIMARÃES DE CALDAS    2225.63\n",
              "MAJOR MAURO                     2311.53\n",
              "ULISSES SALES                   2653.53\n",
              "Name: Valor, dtype: float64"
            ]
          },
          "metadata": {},
          "execution_count": 16
        }
      ]
    },
    {
      "cell_type": "code",
      "source": [
        "# DEMONSTRAÇÃO VISUAL DOS DEPUTADOS QUE MENOS GASTARAM:\n",
        "df.groupby('Deputado')['Valor'].sum().sort_values().head(3).plot.bar(figsize=(12,8), xlabel = 'Nome do deputado', ylabel= 'Valor gasto')"
      ],
      "metadata": {
        "colab": {
          "base_uri": "https://localhost:8080/",
          "height": 680
        },
        "id": "pOxxIKzhmH8-",
        "outputId": "84bbdf70-3dfa-4a74-e592-e0c26522867d"
      },
      "execution_count": null,
      "outputs": [
        {
          "output_type": "execute_result",
          "data": {
            "text/plain": [
              "<AxesSubplot:xlabel='Nome do deputado', ylabel='Valor gasto'>"
            ]
          },
          "metadata": {},
          "execution_count": 17
        },
        {
          "output_type": "display_data",
          "data": {
            "text/plain": [
              "<Figure size 864x576 with 1 Axes>"
            ],
            "image/png": "[encoded data removed]"
          },
          "metadata": {
            "needs_background": "light"
          }
        }
      ]
    },
    {
      "cell_type": "code",
      "source": [
        "# Criando um df para o deputado que mais gastou e o deputado que menos gastou para comparação:\n",
        "filtrocampos = df.Deputado.isin(['CAMPOS MACHADO'])\n",
        "dfcampos = df.loc[filtrocampos] \n",
        "filtroantonio = df.Deputado.isin(['ANTÔNIO AGUIMARÃES DE CALDAS'])\n",
        "dfantonio = df.loc[filtroantonio]"
      ],
      "metadata": {
        "id": "EiHQc73rmnw-"
      },
      "execution_count": null,
      "outputs": []
    },
    {
      "cell_type": "code",
      "source": [
        "# Checando os anos que o deputado que mais gastou possui registros e conclui-se que ele possui registro em todos os anos de 2002 a 2023.\n",
        "sorted(pd.unique(dfcampos['Ano']))"
      ],
      "metadata": {
        "colab": {
          "base_uri": "https://localhost:8080/"
        },
        "id": "xWXdljEHqX8s",
        "outputId": "9993b92c-a085-4579-891c-e762e963864e"
      },
      "execution_count": null,
      "outputs": [
        {
          "output_type": "execute_result",
          "data": {
            "text/plain": [
              "[2002,\n",
              " 2003,\n",
              " 2004,\n",
              " 2005,\n",
              " 2006,\n",
              " 2007,\n",
              " 2008,\n",
              " 2009,\n",
              " 2010,\n",
              " 2011,\n",
              " 2012,\n",
              " 2013,\n",
              " 2014,\n",
              " 2015,\n",
              " 2016,\n",
              " 2017,\n",
              " 2018,\n",
              " 2019,\n",
              " 2020,\n",
              " 2021,\n",
              " 2022,\n",
              " 2023]"
            ]
          },
          "metadata": {},
          "execution_count": 19
        }
      ]
    },
    {
      "cell_type": "code",
      "source": [
        "# Enquanto o que menos gastou possui registros apenas no ano de 2011.\n",
        "sorted(pd.unique(dfantonio['Ano']))"
      ],
      "metadata": {
        "colab": {
          "base_uri": "https://localhost:8080/"
        },
        "id": "1Cnva7SlqfmF",
        "outputId": "688959cf-03ab-4c88-de36-2fba26574801"
      },
      "execution_count": null,
      "outputs": [
        {
          "output_type": "execute_result",
          "data": {
            "text/plain": [
              "[2011]"
            ]
          },
          "metadata": {},
          "execution_count": 20
        }
      ]
    },
    {
      "cell_type": "code",
      "source": [
        "sorted(pd.unique(df['Deputado']))"
      ],
      "metadata": {
        "colab": {
          "base_uri": "https://localhost:8080/"
        },
        "id": "Kei55Y9kshUE",
        "outputId": "4a4a0a47-557b-40a8-b2e7-ed852c5acd72"
      },
      "execution_count": null,
      "outputs": [
        {
          "output_type": "execute_result",
          "data": {
            "text/plain": [
              "['ABELARDO CAMARINHA',\n",
              " 'ADALBERTO FREITAS',\n",
              " 'ADILSON BARROSO',\n",
              " 'ADILSON ROSSI',\n",
              " 'ADRIANA BORGO',\n",
              " 'ADRIANO DIOGO',\n",
              " 'AFANÁSIO JAZADJI',\n",
              " 'AFONSO LOBATO',\n",
              " 'AGENTE FEDERAL DANILO BALAS',\n",
              " 'AIRTON GARCIA',\n",
              " 'ALBERTO CALVO',\n",
              " 'ALBERTO TURCO LOCO HIAR',\n",
              " 'ALCIDES AMAZONAS',\n",
              " 'ALDO DEMARCHI',\n",
              " 'ALENCAR SANTANA BRAGA',\n",
              " 'ALESSANDRA MONTEIRO',\n",
              " 'ALEX MADUREIRA',\n",
              " 'ALEX MANENTE',\n",
              " 'ALEXANDRE DA FARMÁCIA',\n",
              " 'ALEXANDRE PEREIRA',\n",
              " 'ALFREDO RUZZA',\n",
              " 'ALOÍSIO VIEIRA',\n",
              " 'ALTAIR MORAES',\n",
              " 'ANA DO CARMO',\n",
              " 'ANA MARTINS',\n",
              " 'ANA PERUGINI',\n",
              " 'ANALICE FERNANDES',\n",
              " 'ANDRÉ DO PRADO',\n",
              " 'ANDRÉ SOARES',\n",
              " 'ANGELO PERUGINI',\n",
              " 'ANTONIO CARLOS JUNIOR',\n",
              " 'ANTONIO MENTOR',\n",
              " 'ANTONIO SALIM CURIATI',\n",
              " 'ANTÔNIO AGUIMARÃES DE CALDAS',\n",
              " 'ANTÔNIO CARLOS',\n",
              " 'APRIGIO',\n",
              " 'ARNALDO JARDIM',\n",
              " 'ARTHUR ALVES PINTO',\n",
              " 'ARY FOSSEN',\n",
              " 'ATAIDE TERUEL',\n",
              " 'ATILA JACOMUSSI',\n",
              " 'BALEIA ROSSI',\n",
              " 'BARROS MUNHOZ',\n",
              " 'BETH SAHÃO',\n",
              " 'BETO TRÍCOLI',\n",
              " 'BRUNO COVAS',\n",
              " 'BRUNO FEDER',\n",
              " 'BRUNO GANEM',\n",
              " 'CAIO FRANÇA',\n",
              " 'CALDINI CRESPO',\n",
              " 'CAMILO GAVA',\n",
              " 'CAMPOS MACHADO',\n",
              " 'CARLA MORANDO',\n",
              " 'CARLINHOS ALMEIDA',\n",
              " 'CARLOS BEZERRA JR.',\n",
              " 'CARLOS BRAGA',\n",
              " 'CARLOS CEZAR',\n",
              " 'CARLOS GASPAR',\n",
              " 'CARLOS GIANNAZI',\n",
              " 'CARLOS GRANA',\n",
              " 'CARLOS NEDER',\n",
              " 'CARLOS SAMPAIO',\n",
              " 'CARLOS ZARATTINI',\n",
              " 'CARLÃO CAMARGO',\n",
              " 'CARLÃO PIGNATARI',\n",
              " 'CASTELLO BRANCO',\n",
              " 'CAUÊ MACRIS',\n",
              " 'CELINO CARDOSO',\n",
              " 'CELSO GIGLIO',\n",
              " 'CELSO NASCIMENTO',\n",
              " 'CELSO TANAUI',\n",
              " 'CESAR CALLEGARI',\n",
              " 'CEZAR',\n",
              " 'CEZINHA DE MADUREIRA',\n",
              " 'CHICO SARDELLI',\n",
              " 'CIDO SÉRIO',\n",
              " 'CLAURY SANTOS ALVES DA SILVA',\n",
              " 'CLÉLIA GOMES',\n",
              " 'CONSTÂNCIA FÉLIX',\n",
              " 'CONTE LOPES',\n",
              " 'CORAUCI SOBRINHO',\n",
              " 'CORONEL CAMILO',\n",
              " 'CORONEL NISHIKAWA',\n",
              " 'CORONEL TELHADA',\n",
              " 'CÁSSIO NAVARRO',\n",
              " 'CÂNDIDO VACCAREZZA',\n",
              " 'CÉLIA LEÃO',\n",
              " 'CÍCERO DE FREITAS',\n",
              " 'DANIEL JOSÉ',\n",
              " 'DANIEL MARINS ALESSI',\n",
              " 'DANIEL SOARES',\n",
              " 'DAVI ZAIA',\n",
              " 'DELEGADA GRACIELA',\n",
              " 'DELEGADO BRUNO LIMA',\n",
              " 'DELEGADO OLIM',\n",
              " 'DILADOR BORGES',\n",
              " 'DILMO DOS SANTOS',\n",
              " 'DIMAS RAMALHO',\n",
              " 'DINIZ LOPES',\n",
              " 'DIRCEU DALBEN',\n",
              " 'DJALMA BOM',\n",
              " 'DONISETE BRAGA',\n",
              " 'DORIVAL BRAGA',\n",
              " 'DOUGLAS GARCIA',\n",
              " 'DOUTOR ULYSSES',\n",
              " 'DR. ITAMAR',\n",
              " 'DR. JORGE DO CARMO',\n",
              " 'DRA. DAMARIS MOURA',\n",
              " 'DUARTE NOGUEIRA',\n",
              " 'DÁRCY VERA',\n",
              " 'ED THOMAS',\n",
              " 'EDINHO SILVA',\n",
              " 'EDIR SALES',\n",
              " 'EDMIR CHEDID',\n",
              " 'EDMUR MESQUITA',\n",
              " 'EDNA MACEDO',\n",
              " 'EDSON APARECIDO',\n",
              " 'EDSON FERRARINI',\n",
              " 'EDSON GIRIBONI',\n",
              " 'EDSON GOMES',\n",
              " 'EDUARDO SOLTUR',\n",
              " 'ELI CORRÊA FILHO',\n",
              " 'EMIDIO DE SOUZA',\n",
              " 'ENIO TATTO',\n",
              " 'ERICA MALUNGUINHO',\n",
              " 'ESTEVAM GALVÃO',\n",
              " 'EVANDRO LOSACCO',\n",
              " 'FARIA JÚNIOR',\n",
              " 'FAUSTO FIGUEIRA',\n",
              " 'FELICIANO FILHO',\n",
              " 'FERNANDO CAPEZ',\n",
              " 'FERNANDO CURY',\n",
              " 'FLÁVIO CHAVES',\n",
              " 'FRANCISCO CAMPOS TITO',\n",
              " \"FREDERICO D'AVILA\",\n",
              " 'GERALDO CRUZ',\n",
              " 'GERALDO LOPES',\n",
              " 'GERALDO TENUTA FILHO',\n",
              " 'GERALDO VINHOLI',\n",
              " 'GERSON BITTENCOURT',\n",
              " 'GIBA MARSON',\n",
              " 'GIL ARANTES',\n",
              " 'GIL DINIZ',\n",
              " 'GIL LANCASTER',\n",
              " 'GILENO GOMES',\n",
              " 'GILMACI SANTOS',\n",
              " 'GILMAR GIMENES',\n",
              " 'GILSON DE SOUZA',\n",
              " 'GUSTAVO PETTA',\n",
              " 'HAIFA MADI',\n",
              " 'HAMILTON PEREIRA',\n",
              " 'HAVANIR NIMTZ',\n",
              " 'HENI OZI CUKIER',\n",
              " 'HENRIQUE PACHECO',\n",
              " 'HEROILMA SOARES',\n",
              " 'HÉLIO NISHIMOTO',\n",
              " 'IDUIGUES MARTINS',\n",
              " 'IGOR SOARES',\n",
              " 'ISA PENNA',\n",
              " 'ISAC REIS',\n",
              " 'ITAMAR BORGES',\n",
              " 'JAMIL MURAD',\n",
              " 'JANAINA PASCHOAL',\n",
              " 'JONAS DONIZETTE',\n",
              " 'JOOJI HATO',\n",
              " 'JORGE CARUSO',\n",
              " 'JORGE TOKUZUMI',\n",
              " 'JORGE WILSON XERIFE DO CONSUMIDOR',\n",
              " 'JOSÉ AMÉRICO',\n",
              " 'JOSÉ ANTONIO BRUNO',\n",
              " 'JOSÉ AUGUSTO',\n",
              " 'JOSÉ BITTENCOURT',\n",
              " 'JOSÉ CARLOS STANGARLINI',\n",
              " 'JOSÉ CARLOS TONIN',\n",
              " 'JOSÉ CÂNDIDO',\n",
              " 'JOSÉ DILSON',\n",
              " 'JOSÉ REZENDE',\n",
              " 'JOSÉ ROBERTO ATALAIA',\n",
              " 'JOSÉ ZICO PRADO',\n",
              " 'JOÃO ANTÔNIO',\n",
              " 'JOÃO BARBOSA',\n",
              " 'JOÃO CARAMEZ',\n",
              " 'JOÃO MELLÃO NETO',\n",
              " 'JOÃO PAULO RILLO',\n",
              " 'JULIO CESAR',\n",
              " 'JUNIOR APRILLANTI',\n",
              " 'LEANDRO KLB',\n",
              " 'LECI BRANDÃO',\n",
              " 'LELIS TRAJANO',\n",
              " 'LETICIA AGUIAR',\n",
              " 'LOBBE NETO',\n",
              " 'LUCIANO BATISTA',\n",
              " 'LUIZ CARLOS GONDIM',\n",
              " 'LUIZ CLAUDIO MARCOLINO',\n",
              " 'LUIZ FERNANDO MACHADO',\n",
              " 'LUIZ FERNANDO T. FERREIRA',\n",
              " 'LUIZ GONZAGA VIEIRA',\n",
              " 'LUIZ MOURA',\n",
              " 'LUIZ TURCO',\n",
              " 'LÉO OLIVEIRA',\n",
              " 'MAJOR MAURO',\n",
              " 'MAJOR MECCA',\n",
              " 'MARCELO BUENO',\n",
              " 'MARCELO CÂNDIDO',\n",
              " 'MARCIO ARAÚJO',\n",
              " 'MARCIO DA FARMÁCIA',\n",
              " 'MARCIO NAKASHIMA',\n",
              " 'MARCO AURÉLIO',\n",
              " 'MARCO BERTAIOLLI',\n",
              " 'MARCO PORTA',\n",
              " 'MARCO VINHOLI',\n",
              " 'MARCOS DAMASIO',\n",
              " 'MARCOS MARTINS',\n",
              " 'MARCOS MENDONÇA',\n",
              " 'MARCOS NEVES',\n",
              " 'MARCOS ZERBINI',\n",
              " 'MARIA DE JESUS',\n",
              " 'MARIA DO CARMO PIUNTI',\n",
              " 'MARIA LÚCIA AMARY',\n",
              " 'MARIA LÚCIA PRANDI',\n",
              " 'MARINA HELOU',\n",
              " 'MARIÂNGELA DUARTE',\n",
              " 'MARQUINHO TORTORELLO',\n",
              " 'MARTA COSTA',\n",
              " 'MAURICI',\n",
              " 'MAURO BRAGATO',\n",
              " 'MAURO MENUCHI',\n",
              " 'MILTON FLÁVIO',\n",
              " 'MILTON LEITE FILHO',\n",
              " 'MILTON VIEIRA',\n",
              " 'MONICA BECKER',\n",
              " 'MONICA SEIXAS DO MOVIMENTO PRETAS',\n",
              " 'MOZART RUSSOMANNO',\n",
              " 'MURILO FELIX',\n",
              " 'MÁRCIA LIA',\n",
              " 'MÁRCIO CAMARGO',\n",
              " 'MÁRIO REALI',\n",
              " 'NABI CHEDID',\n",
              " 'NELSON SALOMÉ',\n",
              " 'NEWTON BRANDÃO',\n",
              " 'NIVALDO SANTANA',\n",
              " 'OLÍMPIO GOMES',\n",
              " 'ORLANDO BOLÇONE',\n",
              " 'ORLANDO MORANDO',\n",
              " 'OSVALDO VERGINIO',\n",
              " 'OTONIEL LIMA',\n",
              " 'PALMIRO MENNUCCI',\n",
              " 'PASCHOAL THOMEU',\n",
              " 'PATRÍCIA GAMA',\n",
              " 'PATRÍCIA LIMA',\n",
              " 'PAULO ALEXANDRE BARBOSA',\n",
              " 'PAULO CORREA JR',\n",
              " 'PAULO FIORILO',\n",
              " 'PAULO NEME',\n",
              " 'PAULO SÉRGIO',\n",
              " 'PEDRO BIGARDI',\n",
              " 'PEDRO KAKÁ',\n",
              " 'PEDRO MORI',\n",
              " 'PEDRO TOBIAS',\n",
              " 'PEDRO YVES',\n",
              " 'PETTERSON PRADO',\n",
              " 'PROFESSOR AURIEL',\n",
              " 'PROFESSOR KENNY',\n",
              " 'PROFESSOR WALTER VICIONI',\n",
              " 'PROFESSORA BEBEL',\n",
              " 'RAFA ZIMBALDI',\n",
              " 'RAFAEL SILVA',\n",
              " 'RAMALHO DA CONSTRUÇÃO',\n",
              " 'RAMIRO MEVES',\n",
              " 'RAUL MARCELO',\n",
              " 'REGINA GONÇALVES',\n",
              " 'REINALDO ALGUZ',\n",
              " 'RENATO SIMÕES',\n",
              " 'REYNALDO DE BARROS',\n",
              " 'RICARDO CASTILHO',\n",
              " 'RICARDO MADALENA',\n",
              " 'RICARDO MONTORO',\n",
              " 'RICARDO TRÍPOLI',\n",
              " 'RITA PASSOS',\n",
              " 'ROBERTO DE JESUS',\n",
              " 'ROBERTO ENGLER',\n",
              " 'ROBERTO FELÍCIO',\n",
              " 'ROBERTO GOUVEIA',\n",
              " 'ROBERTO MASSAFERA',\n",
              " 'ROBERTO MORAIS',\n",
              " 'ROBERTO TRIPOLI',\n",
              " 'RODOLFO COSTA E SILVA',\n",
              " 'RODRIGO GAMBALE',\n",
              " 'RODRIGO GARCIA',\n",
              " 'RODRIGO MORAES',\n",
              " 'ROGÉRIO NOGUEIRA',\n",
              " 'ROMEU TUMA',\n",
              " 'ROQUE BARBIERE',\n",
              " 'ROSMARY CORRÊA',\n",
              " 'RUI FALCÃO',\n",
              " 'SAID MOURAD',\n",
              " 'SALVADOR KHURIYEH',\n",
              " 'SAMUEL MOREIRA',\n",
              " 'SARAH MUNHOZ',\n",
              " 'SARGENTO NERI',\n",
              " 'SEBASTIÃO ALMEIDA',\n",
              " 'SEBASTIÃO ARCANJO',\n",
              " 'SEBASTIÃO BATISTA MACHADO',\n",
              " 'SEBASTIÃO SANTOS',\n",
              " 'SERGIO VICTOR',\n",
              " 'SIDNEY BERALDO',\n",
              " 'SIMÃO PEDRO',\n",
              " 'SOUZA SANTOS',\n",
              " 'TELMA DE SOUZA',\n",
              " 'TENENTE COIMBRA',\n",
              " 'TENENTE NASCIMENTO',\n",
              " 'TEONILIO BARBA',\n",
              " 'TEREZINHA DA PAULINA',\n",
              " 'THIAGO AURICCHIO',\n",
              " 'UBIRATAN GUIMARÃES',\n",
              " 'UEBE REZECK',\n",
              " 'ULISSES SALES',\n",
              " 'VALDOMIRO LOPES',\n",
              " 'VALERIA BOLSONARO',\n",
              " 'VANDERLEI MACRIS',\n",
              " 'VANDERLEI SIRAQUE',\n",
              " 'VANESSA DAMO',\n",
              " 'VAZ DE LIMA',\n",
              " 'VICENTE CÂNDIDO',\n",
              " 'VINÍCIUS CAMARINHA',\n",
              " 'VITOR SAPIENZA',\n",
              " 'WADIH HELÚ',\n",
              " 'WAGNER LINO',\n",
              " 'WAGNER SALUSTIANO',\n",
              " 'WALDIR AGNELLO',\n",
              " 'WALTER FELDMAN',\n",
              " 'WELLINGTON MOURA',\n",
              " 'WELSON GASPARINI',\n",
              " 'WIDERSON ANZELOTTI',\n",
              " 'WILLIANS RAFAEL',\n",
              " 'WILSON DE OLIVEIRA MORAIS',\n",
              " 'ZUZA ABDUL MASSIH',\n",
              " 'ÍTALO CARDOSO']"
            ]
          },
          "metadata": {},
          "execution_count": 25
        }
      ]
    },
    {
      "cell_type": "code",
      "source": [
        "# CÓDIGO PARA CONSULTAR INDIVIDUALMENTE QUANTO CADA DEPUTADO GASTOU NO TOTAL EM TODO O PERÍODO:\n",
        "ftgastodeputado = df.Deputado == 'UBIRATAN GUIMARÃES'\n",
        "df.loc[ftgastodeputado].groupby(['Deputado'])['Valor'].sum().sort_values(ascending=False)"
      ],
      "metadata": {
        "colab": {
          "base_uri": "https://localhost:8080/"
        },
        "id": "YhhnLQMHsDqB",
        "outputId": "50ae297d-080b-4ca8-c1a4-49c1f588edc5"
      },
      "execution_count": null,
      "outputs": [
        {
          "output_type": "execute_result",
          "data": {
            "text/plain": [
              "Deputado\n",
              "UBIRATAN GUIMARÃES    667711.36\n",
              "Name: Valor, dtype: float64"
            ]
          },
          "metadata": {},
          "execution_count": 26
        }
      ]
    },
    {
      "cell_type": "code",
      "source": [
        "filtroano = df.Ano>2018\n",
        "dfano = df.loc[filtroano]"
      ],
      "metadata": {
        "id": "6tDZ1bD4rciY"
      },
      "execution_count": null,
      "outputs": []
    },
    {
      "cell_type": "code",
      "source": [
        "# ITENS ONDE MAIS TIVERAM DESPESAS NOS ÚLTIMOS 4 ANOS:\n",
        "dfano.groupby('Tipo')['Valor'].sum().sort_values(ascending=False)"
      ],
      "metadata": {
        "colab": {
          "base_uri": "https://localhost:8080/"
        },
        "id": "ZkzlmVy9giKL",
        "outputId": "e772a6a9-a816-425d-ba56-28ef1207e35c"
      },
      "execution_count": null,
      "outputs": [
        {
          "output_type": "execute_result",
          "data": {
            "text/plain": [
              "Tipo\n",
              "L - LOCAÇÃO DE BENS IMÓVEIS                                           16086832.19\n",
              "D - MATERIAIS E SERVIÇOS GRÁFICOS, DE CÓPIAS  E REPRODUÇÃO DE DOCS    12607446.44\n",
              "O - LOCAÇÃO DE VEÍCULO                                                11693211.97\n",
              "F - SERVIÇOS TÉCNICOS PROFISSIONAIS (CONSULTORIA, PESQUISAS ETC)       8585146.23\n",
              "K - LOCAÇÃO DE BENS MÓVEIS                                             7610491.39\n",
              "A - COMBUSTÍVEIS E LUBRIFICANTES                                       6397869.93\n",
              "M - MANUTENÇÃO DE BENS MÓVEIS,  IMÓVEIS, CONDOMÍNIOS E OUTROS          4270934.84\n",
              "H - SERV.UTIL.PÚBLICA (TELEF.MÓVEL/FIXA, ENERGIA, ÁGUA, GÁS ETC)       3911704.93\n",
              "E - MATERIAIS DE ESCRITÓRIO E OUTROS MATERIAIS DE CONSUMO              3907922.43\n",
              "I - HOSPEDAGEM, ALIMENTAÇÃO E DESPESAS DE LOCOMOÇÃO                    2967481.65\n",
              "J - SERVIÇOS DE COMUNICAÇÃO                                            2675562.86\n",
              "N - MORADIA                                                            2262343.44\n",
              "P - DIVULGAÇÃO DA ATIVIDADE PARLAMENTAR                                1554983.42\n",
              "G - ASSINATURAS DE PERIÓDICOS, PUBLICAÇÕES, INTERNET E SOFTWARES       1417021.41\n",
              "C - MATERIAIS E SERVIÇOS DE MANUT E CONSERV DE VEÍCULOS ; PEDÁGIOS      273703.58\n",
              "Name: Valor, dtype: float64"
            ]
          },
          "metadata": {},
          "execution_count": 28
        }
      ]
    },
    {
      "cell_type": "code",
      "source": [
        "# DEPUTADOS QUE MAIS GASTARAM NOS ULTIMOS 4 ANOS\n",
        "dfano.groupby('Deputado')['Valor'].sum().sort_values(ascending=False)"
      ],
      "metadata": {
        "colab": {
          "base_uri": "https://localhost:8080/"
        },
        "id": "sFGzpGzsopHw",
        "outputId": "c481982b-24d7-46c4-ec45-387781807372"
      },
      "execution_count": null,
      "outputs": [
        {
          "output_type": "execute_result",
          "data": {
            "text/plain": [
              "Deputado\n",
              "VINÍCIUS CAMARINHA       1580469.72\n",
              "ENIO TATTO               1577070.41\n",
              "TEONILIO BARBA           1568033.24\n",
              "MARTA COSTA              1522020.23\n",
              "PAULO FIORILO            1467310.33\n",
              "                            ...    \n",
              "ANTONIO SALIM CURIATI       2418.90\n",
              "MAJOR MAURO                 2311.53\n",
              "LUIZ GONZAGA VIEIRA         2251.96\n",
              "CARLOS BEZERRA JR.          1467.37\n",
              "PEDRO KAKÁ                  1302.67\n",
              "Name: Valor, Length: 151, dtype: float64"
            ]
          },
          "metadata": {},
          "execution_count": 29
        }
      ]
    },
    {
      "cell_type": "code",
      "source": [
        "# VALORES GASTOS A CADA ANO DE 2002 A 2023:\n",
        "df.groupby('Ano')['Valor'].sum().plot.bar(figsize=(12,8),xlabel='Ano',ylabel='Valores gastos')"
      ],
      "metadata": {
        "colab": {
          "base_uri": "https://localhost:8080/",
          "height": 540
        },
        "id": "zvDvAei0oo-u",
        "outputId": "c8f400e6-bcb2-44d7-d9ed-786accf869c0"
      },
      "execution_count": null,
      "outputs": [
        {
          "output_type": "execute_result",
          "data": {
            "text/plain": [
              "<AxesSubplot:xlabel='Ano', ylabel='Valores\\xa0gastos'>"
            ]
          },
          "metadata": {},
          "execution_count": 30
        },
        {
          "output_type": "display_data",
          "data": {
            "text/plain": [
              "<Figure size 864x576 with 1 Axes>"
            ],
            "image/png": "[encoded data removed]"
          },
          "metadata": {
            "needs_background": "light"
          }
        }
      ]
    },
    {
      "cell_type": "code",
      "source": [
        "db = client['tratados']\n",
        "collectiondepsp = db['depsp_tratado']\n",
        "collectiondepsp.count_documents({})"
      ],
      "metadata": {
        "colab": {
          "base_uri": "https://localhost:8080/"
        },
        "id": "7Xy5SYeg_A32",
        "outputId": "493928ab-c130-47b2-8d90-acfe5cf622f5"
      },
      "execution_count": null,
      "outputs": [
        {
          "output_type": "execute_result",
          "data": {
            "text/plain": [
              "0"
            ]
          },
          "metadata": {},
          "execution_count": 17
        }
      ]
    },
    {
      "cell_type": "code",
      "source": [
        "df_dict = df.to_dict(\"records\")\n",
        "\n",
        "collectiondepsp.insert_many(df_dict)"
      ],
      "metadata": {
        "colab": {
          "base_uri": "https://localhost:8080/"
        },
        "id": "Gx9k_pLV_AFQ",
        "outputId": "ef28c9b2-84d9-42c0-ec80-ce227843e5f2"
      },
      "execution_count": null,
      "outputs": [
        {
          "output_type": "execute_result",
          "data": {
            "text/plain": [
              "<pymongo.results.InsertManyResult at 0x7fa81a2e8c70>"
            ]
          },
          "metadata": {},
          "execution_count": 18
        }
      ]
    },
    {
      "cell_type": "code",
      "source": [
        "df.groupby('Fornecedor').size().sort_values(ascending=False).head(100).index"
      ],
      "metadata": {
        "id": "9Hj9viVkEBUf"
      },
      "execution_count": null,
      "outputs": []
    }
  ]
}